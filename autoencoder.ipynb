{
 "cells": [
  {
   "cell_type": "code",
   "execution_count": 41,
   "id": "5de43a82-9855-4dc7-bcfd-8951388c2469",
   "metadata": {
    "tags": []
   },
   "outputs": [],
   "source": [
    "import torch\n",
    "import torch.nn as nn\n",
    "import torch.optim as optim\n",
    "from torch.utils.data import DataLoader, TensorDataset\n",
    "from sklearn.metrics import confusion_matrix\n",
    "import numpy as np\n",
    "from sklearn.metrics import multilabel_confusion_matrix\n",
    "from tqdm.auto import tqdm\n",
    "import matplotlib.pyplot as plt\n",
    "from tqdm.auto import tqdm\n",
    "from sklearn.metrics import roc_auc_score,roc_curve\n",
    "import os\n",
    "from PIL import Image\n",
    "# \"ConcatDataset\" and \"Subset\" are possibly useful when doing semi-supervised learning.\n",
    "from torch.utils.data import ConcatDataset, DataLoader, Subset, Dataset\n",
    "from torchvision.datasets import DatasetFolder, VisionDataset\n",
    "# This is for the progress bar.\n",
    "import random\n",
    "\n",
    "\n",
    "torch.cuda.set_device(3)\n",
    "device = \"cuda\" if torch.cuda.is_available() else \"cpu\"\n",
    "\n",
    "myseed = 11292  # set a random seed for reproducibility\n",
    "torch.backends.cudnn.deterministic = True\n",
    "torch.backends.cudnn.benchmark = False\n",
    "np.random.seed(myseed)\n",
    "torch.manual_seed(myseed)\n",
    "if torch.cuda.is_available():\n",
    "    torch.cuda.manual_seed_all(myseed)\n",
    "\n",
    "\n",
    "     \n",
    "\n",
    "# 定義 Autoencoder 模型\n",
    "class Autoencoder(nn.Module):\n",
    "    def __init__(self):\n",
    "        super(Autoencoder, self).__init__()\n",
    "        self.encoder = nn.Sequential(\n",
    "            nn.Conv2d(3, 25, 4, stride=2, padding=1),         \n",
    "            nn.ReLU(),\n",
    "            nn.Conv2d(25, 100, 4, stride=2, padding=1),        \n",
    "            nn.ReLU(),\n",
    "\t\t\tnn.Conv2d(100, 400, 4, stride=2, padding=1),         \n",
    "            nn.ReLU(),\n",
    "        )\n",
    "        self.decoder = nn.Sequential(\n",
    "\t\t\tnn.ConvTranspose2d(400, 100, 4, stride=2, padding=1),\n",
    "            nn.ReLU(),\n",
    "\t\t\tnn.ConvTranspose2d(100, 25, 4, stride=2, padding=1), \n",
    "            nn.ReLU(),\n",
    "            nn.ConvTranspose2d(25, 3, 4, stride=2, padding=1),\n",
    "            nn.Tanh(),\n",
    "        )\n",
    "\n",
    "    def forward(self, x):\n",
    "        x = self.encoder(x)\n",
    "        x = self.decoder(x)\n",
    "        return x\n",
    "\n",
    "\n",
    "import torch\n",
    "from torch.utils.data import TensorDataset, DataLoader\n",
    "from sklearn.model_selection import train_test_split\n",
    "\n"
   ]
  },
  {
   "cell_type": "code",
   "execution_count": 2,
   "id": "0eb6be89-8ab5-4de9-810e-8eec0bfd88f7",
   "metadata": {},
   "outputs": [],
   "source": [
    "import os\n",
    "import re\n",
    "import cv2\n",
    "\n",
    "#INTER_LINEAR – a bilinear interpolation (used by default)\n",
    "\n",
    "def Autodataset(root_dir,label):\n",
    "    Rh_data = []\n",
    "    IMG_SIZE = 224\n",
    "    labels = []\n",
    "    \n",
    "    for filename in os.listdir(root_dir):\n",
    "        if filename.endswith(('.jpg', '.jpeg', '.png')):\n",
    "            # 組合完整的檔案路徑\n",
    "            file_path = os.path.join(root_dir, filename)\n",
    "\n",
    "            # 讀取照片\n",
    "            img = cv2.imread(file_path)\n",
    "\n",
    "            # 確保成功讀取照片\n",
    "            if img is not None:\n",
    "                # 將照片 resize 到指定的尺寸\n",
    "                resized_img = cv2.resize(img, (224, 224),interpolation=cv2.INTER_LINEAR)\n",
    "                #resized_img=resized_img/255\n",
    "                #resized_img[0] = (resized_img[0]-0.485)/0.229\n",
    "                #resized_img[1] = (resized_img[1]-0.456)/0.224\n",
    "                #resized_img[2] = (resized_img[2]-0.406)/0.225\n",
    "                \n",
    "                # 將 resize 後的照片加入列表\n",
    "                Rh_data.append(resized_img)\n",
    "            else:\n",
    "                print(f\"無法讀取照片: {file_path}\")\n",
    "                \n",
    "    for filename in os.listdir(root_dir):\n",
    "        if filename.endswith(('.jpg', '.jpeg', '.png')):\n",
    "            labels.append(label)\n",
    "\n",
    "    \n",
    "    return Rh_data, labels"
   ]
  },
  {
   "cell_type": "code",
   "execution_count": 3,
   "id": "c2fc69e4-8b4b-409f-abd3-82ff1bfe6297",
   "metadata": {
    "tags": []
   },
   "outputs": [
    {
     "name": "stdout",
     "output_type": "stream",
     "text": [
      "all are ok\n"
     ]
    }
   ],
   "source": [
    "u94_Rh1_data,u94_Rh1_label = Autodataset(root_dir=\"semi_anlayic/raif_img\",label=0)\n",
    "d94_Rh1_data,d94_Rh1_label = Autodataset(root_dir=\"abnor_cat_dog/B\",label=1)\n",
    "print('all are ok')"
   ]
  },
  {
   "cell_type": "code",
   "execution_count": 4,
   "id": "f6b50674-a4e3-42d0-9571-5ee613377dab",
   "metadata": {
    "tags": []
   },
   "outputs": [
    {
     "name": "stdout",
     "output_type": "stream",
     "text": [
      "2833 2833\n"
     ]
    }
   ],
   "source": [
    "print(len(u94_Rh1_label),len(u94_Rh1_data))"
   ]
  },
  {
   "cell_type": "code",
   "execution_count": 5,
   "id": "5f9d048b-1f20-4f78-91d8-888cc6c4d6ef",
   "metadata": {
    "tags": []
   },
   "outputs": [],
   "source": [
    "train_data=np.array(u94_Rh1_data)\n",
    "label=np.array(u94_Rh1_label)\n",
    "\n",
    "data_targets=[d94_Rh1_data]\n",
    "data_labels=[d94_Rh1_label]\n",
    "for i in data_targets:\n",
    "    gg=np.array(i)\n",
    "    train_data=np.append(train_data,gg,axis=0)\n",
    "\n",
    "for i in data_labels:\n",
    "    jj=np.array(i)\n",
    "    label=np.append(label,jj)"
   ]
  },
  {
   "cell_type": "code",
   "execution_count": 6,
   "id": "d4d3dabb-e9af-4dbc-99a5-9adb0ef1131c",
   "metadata": {
    "tags": []
   },
   "outputs": [],
   "source": [
    "class RhDataset(Dataset):\n",
    "    def __init__(self):\n",
    "        self.x=train_data\n",
    "        self.y=label\n",
    "\n",
    "    def __getitem__(self, idx):\n",
    "        \n",
    "        return self.x[idx], self.y[idx]\n",
    "\n",
    "    def __len__(self):\n",
    "        return len(self.x)"
   ]
  },
  {
   "cell_type": "code",
   "execution_count": 7,
   "id": "db1ccddc-71fa-4332-8ca5-c773f75190ec",
   "metadata": {
    "tags": []
   },
   "outputs": [
    {
     "name": "stdout",
     "output_type": "stream",
     "text": [
      "0\n"
     ]
    }
   ],
   "source": [
    "batch_size=32\n",
    "train_set = RhDataset()\n",
    "train_data_point, label_0 = train_set[101]\n",
    "print(label_0)"
   ]
  },
  {
   "cell_type": "code",
   "execution_count": 8,
   "id": "8090fc1f-fd00-46e7-bc34-6c94c1bfa1f9",
   "metadata": {
    "tags": []
   },
   "outputs": [
    {
     "name": "stdout",
     "output_type": "stream",
     "text": [
      "3833\n",
      "3833\n"
     ]
    }
   ],
   "source": [
    "print(len(train_data))\n",
    "n_total = len(train_data)\n",
    "n_train = int(0.8 * n_total)\n",
    "n_test = n_total - n_train \n",
    "print(len(train_set))\n",
    "train_dataset, test_dataset = torch.utils.data.random_split(train_set, [n_train, n_test])"
   ]
  },
  {
   "cell_type": "code",
   "execution_count": 9,
   "id": "58051f7d-1348-4b11-a09b-c1846ff94f8a",
   "metadata": {
    "tags": []
   },
   "outputs": [
    {
     "name": "stdout",
     "output_type": "stream",
     "text": [
      "3066\n",
      "767\n"
     ]
    }
   ],
   "source": [
    "print(len(train_dataset))\n",
    "print(len(test_dataset))"
   ]
  },
  {
   "cell_type": "code",
   "execution_count": 10,
   "id": "0cf1778b-72c1-44d7-9617-97e8b62d47e1",
   "metadata": {
    "tags": []
   },
   "outputs": [],
   "source": [
    "batch_size=32\n",
    "\n",
    "train_loader = DataLoader(train_dataset, batch_size=batch_size, shuffle=True, num_workers=0, pin_memory=True)\n",
    "test_loader = torch.utils.data.DataLoader(test_dataset, batch_size=batch_size, shuffle=True,num_workers=0, pin_memory=True)"
   ]
  },
  {
   "cell_type": "code",
   "execution_count": 52,
   "id": "2eff5b24-685e-422f-9057-7766e9345b77",
   "metadata": {
    "tags": []
   },
   "outputs": [
    {
     "data": {
      "application/vnd.jupyter.widget-view+json": {
       "model_id": "531cd89c425843c990a5bcf2766a9ebe",
       "version_major": 2,
       "version_minor": 0
      },
      "text/plain": [
       "  0%|          | 0/100 [00:00<?, ?it/s]"
      ]
     },
     "metadata": {},
     "output_type": "display_data"
    },
    {
     "name": "stdout",
     "output_type": "stream",
     "text": [
      "[ Train | 001/100 ] loss = 5316.15233\n",
      "最佳閾值: 4684.33154296875,acc=0.54\n",
      "model save,最佳acc=0.54\n",
      "[ Train | 002/100 ] loss = 5304.30787\n",
      "最佳閾值: 5248.35888671875,acc=0.57\n",
      "model save,最佳acc=0.57\n",
      "[ Train | 003/100 ] loss = 5292.50731\n",
      "最佳閾值: 5349.24560546875,acc=0.61\n",
      "model save,最佳acc=0.61\n",
      "[ Train | 004/100 ] loss = 5275.23883\n",
      "最佳閾值: 4689.2451171875,acc=0.54\n",
      "[ Train | 005/100 ] loss = 5273.90983\n",
      "最佳閾值: 5363.15625,acc=0.62\n",
      "model save,最佳acc=0.62\n",
      "[ Train | 006/100 ] loss = 5269.76209\n",
      "最佳閾值: 5055.43017578125,acc=0.54\n",
      "[ Train | 007/100 ] loss = 5261.40519\n",
      "最佳閾值: 5424.06640625,acc=0.63\n",
      "model save,最佳acc=0.63\n",
      "[ Train | 008/100 ] loss = 5256.15229\n",
      "最佳閾值: 4775.0634765625,acc=0.50\n",
      "[ Train | 009/100 ] loss = 5252.66654\n",
      "最佳閾值: 4598.623046875,acc=0.50\n",
      "[ Train | 010/100 ] loss = 5258.14227\n",
      "最佳閾值: 5256.75244140625,acc=0.64\n",
      "model save,最佳acc=0.64\n",
      "[ Train | 011/100 ] loss = 5253.92437\n",
      "最佳閾值: 4990.841796875,acc=0.53\n",
      "[ Train | 012/100 ] loss = 5249.37979\n",
      "最佳閾值: 4489.83056640625,acc=0.49\n",
      "[ Train | 013/100 ] loss = 5258.56954\n",
      "最佳閾值: 5223.29833984375,acc=0.59\n",
      "[ Train | 014/100 ] loss = 5250.80733\n",
      "最佳閾值: 4778.83935546875,acc=0.53\n",
      "[ Train | 015/100 ] loss = 5251.51104\n",
      "最佳閾值: 4971.57666015625,acc=0.53\n",
      "[ Train | 016/100 ] loss = 5248.41098\n",
      "最佳閾值: 5176.03857421875,acc=0.54\n",
      "[ Train | 017/100 ] loss = 5242.13253\n",
      "最佳閾值: 4676.2451171875,acc=0.57\n",
      "[ Train | 018/100 ] loss = 5242.96238\n",
      "最佳閾值: 5090.52978515625,acc=0.65\n",
      "model save,最佳acc=0.65\n",
      "[ Train | 019/100 ] loss = 5248.19092\n",
      "最佳閾值: 4577.72021484375,acc=0.56\n",
      "[ Train | 020/100 ] loss = 5245.62436\n",
      "最佳閾值: 4379.48974609375,acc=0.53\n",
      "[ Train | 021/100 ] loss = 5249.30600\n",
      "最佳閾值: 4804.8701171875,acc=0.53\n",
      "[ Train | 022/100 ] loss = 5246.05156\n",
      "最佳閾值: 4006.869873046875,acc=0.45\n",
      "[ Train | 023/100 ] loss = 5246.88672\n",
      "最佳閾值: 4770.6533203125,acc=0.56\n",
      "[ Train | 024/100 ] loss = 5247.13887\n",
      "最佳閾值: 4581.49951171875,acc=0.53\n",
      "[ Train | 025/100 ] loss = 5249.39843\n",
      "最佳閾值: 4842.44921875,acc=0.54\n",
      "[ Train | 026/100 ] loss = 5242.75594\n",
      "最佳閾值: 4562.7939453125,acc=0.47\n",
      "[ Train | 027/100 ] loss = 5247.45952\n",
      "最佳閾值: 4917.29931640625,acc=0.54\n",
      "[ Train | 028/100 ] loss = 5244.37148\n",
      "最佳閾值: 4966.38330078125,acc=0.58\n",
      "[ Train | 029/100 ] loss = 5249.12403\n",
      "最佳閾值: 4801.3310546875,acc=0.58\n",
      "[ Train | 030/100 ] loss = 5248.70742\n",
      "最佳閾值: 5256.93505859375,acc=0.63\n",
      "[ Train | 031/100 ] loss = 5240.07033\n",
      "最佳閾值: 4930.95556640625,acc=0.57\n",
      "[ Train | 032/100 ] loss = 5248.32559\n",
      "最佳閾值: 4689.49853515625,acc=0.52\n",
      "[ Train | 033/100 ] loss = 5242.82272\n",
      "最佳閾值: 4671.83251953125,acc=0.53\n",
      "[ Train | 034/100 ] loss = 5251.27023\n",
      "最佳閾值: 4600.357421875,acc=0.55\n",
      "[ Train | 035/100 ] loss = 5247.67058\n",
      "最佳閾值: 5177.9248046875,acc=0.67\n",
      "model save,最佳acc=0.67\n",
      "[ Train | 036/100 ] loss = 5249.00835\n",
      "最佳閾值: 4995.81201171875,acc=0.59\n",
      "[ Train | 037/100 ] loss = 5243.90165\n",
      "最佳閾值: 5493.2734375,acc=0.70\n",
      "model save,最佳acc=0.70\n",
      "[ Train | 038/100 ] loss = 5243.07531\n",
      "最佳閾值: 4912.56005859375,acc=0.55\n",
      "[ Train | 039/100 ] loss = 5245.33345\n",
      "最佳閾值: 4774.35205078125,acc=0.61\n",
      "[ Train | 040/100 ] loss = 5243.44604\n",
      "最佳閾值: 4781.24658203125,acc=0.59\n",
      "[ Train | 041/100 ] loss = 5248.41570\n",
      "最佳閾值: 5138.68505859375,acc=0.62\n",
      "[ Train | 042/100 ] loss = 5247.09479\n",
      "最佳閾值: 5082.82958984375,acc=0.56\n",
      "[ Train | 043/100 ] loss = 5242.91693\n",
      "最佳閾值: 4892.525390625,acc=0.60\n",
      "[ Train | 044/100 ] loss = 5242.34890\n",
      "最佳閾值: 5226.36279296875,acc=0.62\n",
      "[ Train | 045/100 ] loss = 5244.05804\n",
      "最佳閾值: 4795.173828125,acc=0.51\n",
      "[ Train | 046/100 ] loss = 5246.75168\n",
      "最佳閾值: 4613.9462890625,acc=0.55\n",
      "[ Train | 047/100 ] loss = 5243.08850\n",
      "最佳閾值: 5285.09228515625,acc=0.59\n",
      "[ Train | 048/100 ] loss = 5247.42199\n",
      "最佳閾值: 5009.32958984375,acc=0.61\n",
      "[ Train | 049/100 ] loss = 5244.57951\n",
      "最佳閾值: 4593.40673828125,acc=0.53\n",
      "[ Train | 050/100 ] loss = 5245.34655\n",
      "最佳閾值: 5347.701171875,acc=0.62\n",
      "[ Train | 051/100 ] loss = 5242.65436\n",
      "最佳閾值: 5240.35693359375,acc=0.59\n",
      "[ Train | 052/100 ] loss = 5247.96894\n",
      "最佳閾值: 4955.5048828125,acc=0.56\n",
      "[ Train | 053/100 ] loss = 5248.52061\n",
      "最佳閾值: 5148.978515625,acc=0.63\n",
      "[ Train | 054/100 ] loss = 5243.74846\n",
      "最佳閾值: 5317.84765625,acc=0.59\n",
      "[ Train | 055/100 ] loss = 5245.43447\n",
      "最佳閾值: 4780.8037109375,acc=0.54\n",
      "[ Train | 056/100 ] loss = 5243.18940\n",
      "最佳閾值: 4382.140625,acc=0.52\n",
      "[ Train | 057/100 ] loss = 5241.65352\n",
      "最佳閾值: 5206.4736328125,acc=0.57\n",
      "[ Train | 058/100 ] loss = 5246.58161\n",
      "最佳閾值: 5102.83154296875,acc=0.52\n",
      "No improvment 20 consecutive epochs, early stopping\n"
     ]
    },
    {
     "data": {
      "image/png": "[encoded data removed]",
      "text/plain": [
       "<Figure size 640x480 with 1 Axes>"
      ]
     },
     "metadata": {},
     "output_type": "display_data"
    },
    {
     "data": {
      "text/plain": [
       "'\\nlabels, scores = evaluate_autoencoder(model, test_loader)\\n\\n# 使用 ROC 曲線下的面積（AUC）來找到最佳閾值\\nfpr, tpr, thresholds = roc_curve(labels, scores)\\nroc_auc = roc_auc_score(labels, scores)\\n\\n# 選擇最佳閾值\\nbest_threshold_index = np.argmax(tpr - fpr)\\nbest_threshold = thresholds[best_threshold_index]\\n\\nprint(f\"最佳閾值: {best_threshold}\")\\n\\n# 儲存最佳閾值下的權重檔\\ntorch.save(model.state_dict(), f\\'threshold_{myseed}_model.pth\\')\\n\\n# 使用最佳閾值進行評估\\nall_labels, all_scores = evaluate_autoencoder(model, test_loader)\\npredictions = (np.array(all_scores) > best_threshold).astype(int)\\n'"
      ]
     },
     "execution_count": 52,
     "metadata": {},
     "output_type": "execute_result"
    }
   ],
   "source": [
    "import torch\n",
    "import torch.nn as nn\n",
    "from sklearn.metrics import roc_curve, roc_auc_score, confusion_matrix\n",
    "import numpy as np\n",
    "\n",
    "# 初始化 Autoencoder 模型、損失函數和優化器\n",
    "model = Autoencoder().to(device)\n",
    "criterion = nn.MSELoss()\n",
    "optimizer = torch.optim.Adam(model.parameters(), lr=1e-6)\n",
    "\n",
    "batch_size=32\n",
    "num_epochs=100\n",
    "stale = 0\n",
    "patience = 20 \n",
    "\n",
    "\n",
    "loss_train=[]\n",
    "# 訓練 Autoencoder\n",
    "\n",
    "best_acc = 0\n",
    "# 訓練模型\n",
    "    \n",
    "tra_loss = []\n",
    "\n",
    "for epoch in tqdm(range(num_epochs)):\n",
    "    model.train()\n",
    "    train_loss = []\n",
    "\n",
    "    for data in train_loader:\n",
    "        inputs, labels = data\n",
    "        inputs, labels = inputs.to(device), labels.to(device)\n",
    "        inputs = inputs.permute(0, 3, 1, 2)\n",
    "        inputs = inputs.float()\n",
    "        optimizer.zero_grad()\n",
    "        outputs = model(inputs)\n",
    "        loss = criterion(outputs, inputs)\n",
    "        #print(loss)\n",
    "        train_loss.append(loss.item())\n",
    "        loss.backward()\n",
    "        optimizer.step()\n",
    "\n",
    "    train_loss = sum(train_loss) / len(train_loss)\n",
    "    tra_loss.append(train_loss)\n",
    "    print(f\"[ Train | {epoch + 1:03d}/{num_epochs:03d} ] loss = {train_loss:.5f}\")\n",
    "\n",
    "        \n",
    "\n",
    "    model.eval()\n",
    "    all_labels = []\n",
    "    all_scores = []\n",
    "    \n",
    "    with torch.no_grad():\n",
    "        for data in test_loader:\n",
    "            inputs, labels = data\n",
    "            inputs, labels = inputs.to(device), labels.to(device)\n",
    "            inputs= inputs.permute(0, 3, 1, 2)\n",
    "            inputs = inputs.float()\n",
    "            outputs = model(inputs)\n",
    "            loss = criterion(outputs, inputs)\n",
    "            scores = torch.mean(loss.unsqueeze(0).view(1, -1), dim=1)  # 使用重建誤差作為異常程度分數\n",
    "            scores = torch.cat([scores] * len(labels))\n",
    "            all_labels.extend(labels.cpu().numpy())  # 將標籤轉換為 CPU 上的 numpy 陣列\n",
    "            all_scores.extend(scores.cpu().numpy())  # 將分數轉換為 CPU 上的 numpy 陣列\n",
    "    \n",
    "    fpr, tpr, thresholds = roc_curve(all_labels, all_scores)\n",
    "    roc_auc = roc_auc_score(all_labels, all_scores)\n",
    "    best_threshold_index = np.argmax(tpr - fpr)\n",
    "    best_threshold = thresholds[best_threshold_index]\n",
    "    predictions = (np.array(all_scores) > best_threshold).astype(int)\n",
    "    acc = (torch.from_numpy(np.array(predictions)) == torch.from_numpy(np.array(all_labels))).float().mean()\n",
    "    print(f\"最佳閾值: {best_threshold},acc={acc:.2f}\")\n",
    "    \n",
    "    if acc > best_acc:\n",
    "        torch.save(model.state_dict(), f'threshold_{myseed}_model.pth') # only save best to prevent output memory exceed error\n",
    "        best_acc = acc\n",
    "        print(f\"model save,最佳acc={best_acc:.2f}\")\n",
    "        stale = 0\n",
    "    else:\n",
    "        stale += 1\n",
    "        if stale > patience:\n",
    "            print(f\"No improvment {patience} consecutive epochs, early stopping\")\n",
    "            break\n",
    "    #print(f\"最佳閾值: {best_threshold},acc={acc:.2f},最佳acc={best_acc:.2f}\") \n",
    "    \n",
    "    \n",
    "plt.plot(tra_loss,label='training loss')\n",
    "plt.xlabel('epoch')\n",
    "plt.ylabel('loss')\n",
    "#plt.ylim(0,0.02)\n",
    "plt.title('training loss')\n",
    "plt.legend()\n",
    "plt.show()\n",
    "\n",
    "\n",
    "#all_labels, predictions = train_autoencoder(model, train_loader, criterion, optimizer, num_epochs=num_epochs)\n",
    "\n",
    "\n",
    "# 設定閾值\n",
    "'''\n",
    "labels, scores = evaluate_autoencoder(model, test_loader)\n",
    "\n",
    "# 使用 ROC 曲線下的面積（AUC）來找到最佳閾值\n",
    "fpr, tpr, thresholds = roc_curve(labels, scores)\n",
    "roc_auc = roc_auc_score(labels, scores)\n",
    "\n",
    "# 選擇最佳閾值\n",
    "best_threshold_index = np.argmax(tpr - fpr)\n",
    "best_threshold = thresholds[best_threshold_index]\n",
    "\n",
    "print(f\"最佳閾值: {best_threshold}\")\n",
    "\n",
    "# 儲存最佳閾值下的權重檔\n",
    "torch.save(model.state_dict(), f'threshold_{myseed}_model.pth')\n",
    "\n",
    "# 使用最佳閾值進行評估\n",
    "all_labels, all_scores = evaluate_autoencoder(model, test_loader)\n",
    "predictions = (np.array(all_scores) > best_threshold).astype(int)\n",
    "'''\n",
    "\n",
    "\n"
   ]
  },
  {
   "cell_type": "code",
   "execution_count": 59,
   "id": "b5bf61cc-6dd7-4625-882a-cff80224d062",
   "metadata": {
    "tags": []
   },
   "outputs": [
    {
     "name": "stdout",
     "output_type": "stream",
     "text": [
      "混淆矩陣：\n",
      "[[332 247]\n",
      " [ 83 105]]\n"
     ]
    }
   ],
   "source": [
    "model_best = Autoencoder().to(device)\n",
    "model_best.load_state_dict(torch.load(f'threshold_{myseed}_model.pth'))\n",
    "model_best.eval()\n",
    "\n",
    "all_labels = []\n",
    "all_scores = []\n",
    "    \n",
    "with torch.no_grad():\n",
    "    for data in test_loader:\n",
    "        inputs, labels = data\n",
    "        inputs, labels = inputs.to(device), labels.to(device)\n",
    "        inputs= inputs.permute(0, 3, 1, 2)\n",
    "        inputs = inputs.float()\n",
    "        outputs = model_best(inputs)\n",
    "        loss = criterion(outputs, inputs)\n",
    "        scores = torch.mean(loss.unsqueeze(0).view(1, -1), dim=1)  # 使用重建誤差作為異常程度分數\n",
    "        scores = torch.cat([scores] * len(labels))\n",
    "        all_labels.extend(labels.cpu().numpy())  # 將標籤轉換為 CPU 上的 numpy 陣列\n",
    "        all_scores.extend(scores.cpu().numpy())  # 將分數轉換為 CPU 上的 numpy 陣列\n",
    "    \n",
    "    fpr, tpr, thresholds = roc_curve(all_labels, all_scores)\n",
    "    roc_auc = roc_auc_score(all_labels, all_scores)\n",
    "    best_threshold_index = np.argmax(tpr - fpr)\n",
    "    best_threshold = thresholds[best_threshold_index]\n",
    "    predictions = (np.array(all_scores) > best_threshold).astype(int)\n",
    "\n",
    "\n",
    "\n",
    "# 計算混淆矩陣\n",
    "conf_matrix = confusion_matrix(all_labels, predictions)\n",
    "print(\"混淆矩陣：\")\n",
    "print(conf_matrix)\n"
   ]
  },
  {
   "cell_type": "code",
   "execution_count": 56,
   "id": "c5788249-d620-418b-b388-6fa8f1d0b728",
   "metadata": {
    "tags": []
   },
   "outputs": [
    {
     "name": "stdout",
     "output_type": "stream",
     "text": [
      "0.559322033898305\n"
     ]
    }
   ],
   "source": [
    "xx=312+117\n",
    "xxx=xx+267+71\n",
    "print(xx/xxx)"
   ]
  },
  {
   "cell_type": "code",
   "execution_count": 50,
   "id": "cd64481a-7d91-4891-b1fd-1edc019f9f41",
   "metadata": {
    "tags": []
   },
   "outputs": [
    {
     "data": {
      "image/png": "[encoded data removed]",
      "text/plain": [
       "<Figure size 800x600 with 1 Axes>"
      ]
     },
     "metadata": {},
     "output_type": "display_data"
    }
   ],
   "source": [
    "from sklearn.metrics import confusion_matrix\n",
    "from PIL import Image\n",
    "\n",
    "# 初始化混淆矩陣\n",
    "\n",
    "cm_percentage = conf_matrix / conf_matrix.sum(axis=1, keepdims=True) * 100\n",
    "\n",
    "\n",
    "\n",
    "\n",
    "# 设置 x 轴标签\n",
    "x_labels = ['normal', 'abnormal']\n",
    "\n",
    "# 转置百分比数据以匹配 Matplotlib 的要求\n",
    "#percentages = np.array(percentages).T\n",
    "\n",
    "# 创建条形图\n",
    "fig, ax = plt.subplots(figsize=(8, 6))  # 設定圖形的大小\n",
    "width = 0.1  # 条形宽度\n",
    "x = np.arange(len(x_labels))\n",
    "\n",
    "for i, label in enumerate(x_labels):\n",
    "    #print(type(percentages[i]),label)\n",
    "    ax.bar(x + i * width, cm_percentage[i], width, label=label)\n",
    "    if i < len(x_labels) - 1:  # 在除最后一个标签之外的每个标签后面添加垂直线\n",
    "        ax.axvline(x=(i + 1) - 0.05, color='gray', linestyle='--')\n",
    "\n",
    "# 设置图表标签和标题\n",
    "ax.set_xlabel('True Label')\n",
    "ax.set_ylabel('Percentage')\n",
    "ax.set_title(f'Confusion Matrix with Autoencoder')\n",
    "\n",
    "# 设置 x 轴标签和图例\n",
    "ax.set_xticks(x + width * (len(x_labels) - 1) / 2)\n",
    "ax.set_xticklabels(x_labels)\n",
    "ax.legend(loc='lower center', bbox_to_anchor=(0.5, -0.25), ncol=2)\n",
    "\n",
    "fig.savefig(f'autoencoder_{myseed}.png', bbox_inches='tight') # 使用bbox_inches='tight'以確保完整保存圖片\n",
    "plt.show()"
   ]
  },
  {
   "cell_type": "code",
   "execution_count": null,
   "id": "51af2dc9-ed91-437e-9b1e-251b65217229",
   "metadata": {},
   "outputs": [],
   "source": []
  }
 ],
 "metadata": {
  "kernelspec": {
   "display_name": "Python 3 (ipykernel)",
   "language": "python",
   "name": "python3"
  },
  "language_info": {
   "codemirror_mode": {
    "name": "ipython",
    "version": 3
   },
   "file_extension": ".py",
   "mimetype": "text/x-python",
   "name": "python",
   "nbconvert_exporter": "python",
   "pygments_lexer": "ipython3",
   "version": "3.9.18"
  }
 },
 "nbformat": 4,
 "nbformat_minor": 5
}
