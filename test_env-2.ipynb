{
 "cells": [
  {
   "cell_type": "code",
   "execution_count": null,
   "id": "f5d3f021-a5be-48fe-937a-b79b841ea8d6",
   "metadata": {
    "tags": []
   },
   "outputs": [],
   "source": [
    "!nvidia-smi"
   ]
  },
  {
   "cell_type": "code",
   "execution_count": 2,
   "id": "81d4ea54-73c2-4d18-8fe1-b789e2b4f487",
   "metadata": {
    "tags": []
   },
   "outputs": [
    {
     "name": "stdout",
     "output_type": "stream",
     "text": [
      "Memory usage per image in (3,224,224): 0.4307 MB\n",
      "23GB記憶體可儲存資料量:54688張\n"
     ]
    }
   ],
   "source": [
    "import numpy as np\n",
    "\n",
    "# 定義照片大小\n",
    "width, height = 224, 224\n",
    "\n",
    "# 彩色照片有三個通道（RGB）\n",
    "channels = 3\n",
    "\n",
    "# 計算記憶體佔用量（以位元組為單位）\n",
    "memory_usage = width * height * channels * 3  # 假設每個像素使用 4 個位元組（32 位元）\n",
    "\n",
    "# 將位元組轉換為其他單位（例如 KB、MB）\n",
    "memory_usage_kb = memory_usage / 1024\n",
    "memory_usage_mb = memory_usage_kb / 1024\n",
    "aa=23*1024/memory_usage_mb\n",
    "\n",
    "print(f\"Memory usage per image in ({channels},{width},{height}): {memory_usage_mb:.4f} MB\")\n",
    "print(f'23GB記憶體可儲存資料量:{aa:.0f}張')\n"
   ]
  },
  {
   "cell_type": "code",
   "execution_count": 2,
   "id": "55837da4-4108-4c97-a174-65b9f7099992",
   "metadata": {
    "tags": []
   },
   "outputs": [
    {
     "name": "stdout",
     "output_type": "stream",
     "text": [
      "[0.96, 0.51, 0.61]\n"
     ]
    }
   ],
   "source": [
    "import re\n",
    "\n",
    "file_names = [\n",
    "    \"semi_anlayic/raif_img/1_a0.96_i197.00 _rt7.06.jpg\",\n",
    "    \"semi_anlayic/raif_img/10_a0.51_i197.00 _rt7.01.jpg\",\n",
    "    \"semi_anlayic/raif_img/100_a0.61_i197.00 _rt6.79.jpg\"\n",
    "]\n",
    "\n",
    "labels = []\n",
    "\n",
    "for file_name in file_names:\n",
    "    # 使用正則表達式找到檔名中的浮點數\n",
    "    match = re.search(r'_a(\\d+\\.\\d+)_', file_name)\n",
    "    \n",
    "    if match:\n",
    "        label = float(match.group(1))\n",
    "        labels.append(label)\n",
    "    else:\n",
    "        print(f\"未能從檔名中提取標籤：{file_name}\")\n",
    "\n",
    "print(labels)\n"
   ]
  },
  {
   "cell_type": "code",
   "execution_count": 10,
   "id": "c1a09c46-58de-4607-92a8-638ee06c72eb",
   "metadata": {
    "tags": []
   },
   "outputs": [
    {
     "name": "stdout",
     "output_type": "stream",
     "text": [
      "[86.0, 39.0, 42.0]\n"
     ]
    }
   ],
   "source": [
    "import os\n",
    "import re\n",
    "\n",
    "def extract_labels(folder_path):\n",
    "    labels = []\n",
    "\n",
    "    # 遍歷資料夾中的所有檔案\n",
    "    for filename in os.listdir(folder_path):\n",
    "        # 使用正則表達式匹配檔案名稱中的數字部分，並轉換為浮點數\n",
    "        match = re.search(r'a([\\d.]+)_', filename)\n",
    "        if match:\n",
    "            label = float(match.group(1))\n",
    "            label=label*100\n",
    "            labels.append(label)\n",
    "\n",
    "    return labels\n",
    "\n",
    "# 資料夾路徑\n",
    "folder_path = \"semi_anlayic/raif_img/\"\n",
    "\n",
    "# 取得標籤列表\n",
    "labels = extract_labels(folder_path)\n",
    "\n",
    "\n",
    "# 打印前三張照片的標籤\n",
    "print(labels[:3])\n"
   ]
  },
  {
   "cell_type": "code",
   "execution_count": 19,
   "id": "3f2005b7-dea9-4e8a-9b46-065b961526f8",
   "metadata": {
    "tags": []
   },
   "outputs": [
    {
     "name": "stdout",
     "output_type": "stream",
     "text": [
      "總共有 2833 張照片\n"
     ]
    }
   ],
   "source": [
    "import os\n",
    "import cv2\n",
    "\n",
    "def read_and_resize_images(folder_path, target_size=(224, 224)):\n",
    "    img_arrays = []\n",
    "\n",
    "    # 遍歷資料夾中的所有檔案\n",
    "    for filename in os.listdir(folder_path):\n",
    "        if filename.endswith(('.jpg', '.jpeg', '.png')):\n",
    "            # 組合完整的檔案路徑\n",
    "            file_path = os.path.join(folder_path, filename)\n",
    "\n",
    "            # 讀取照片\n",
    "            img = cv2.imread(file_path)\n",
    "\n",
    "            # 確保成功讀取照片\n",
    "            if img is not None:\n",
    "                # 將照片 resize 到指定的尺寸\n",
    "                resized_img = cv2.resize(img, target_size)\n",
    "\n",
    "                # 將 resize 後的照片加入列表\n",
    "                img_arrays.append(resized_img)\n",
    "            else:\n",
    "                print(f\"無法讀取照片: {file_path}\")\n",
    "\n",
    "    return img_arrays\n",
    "\n",
    "# 資料夾路徑\n",
    "folder_path = \"semi_anlayic/raif_img\"\n",
    "\n",
    "# 取得 resize 後的照片列表\n",
    "resized_images = read_and_resize_images(folder_path)\n",
    "\n",
    "# 打印照片數量\n",
    "print(f\"總共有 {len(resized_images)} 張照片\")\n",
    "#print(resized_images)\n",
    "\n",
    "# 如果需要使用這些 resize 後的照片進行後續的處理，你可以使用 resized_images 這個列表\n"
   ]
  },
  {
   "cell_type": "code",
   "execution_count": 24,
   "id": "d8c39c49-14f8-4560-93dc-e2e62b22cfce",
   "metadata": {
    "tags": []
   },
   "outputs": [
    {
     "data": {
      "image/png": "[encoded data removed]",
      "text/plain": [
       "<Figure size 640x480 with 2 Axes>"
      ]
     },
     "metadata": {},
     "output_type": "display_data"
    }
   ],
   "source": [
    "import numpy as np\n",
    "import seaborn as sns\n",
    "import matplotlib.pyplot as plt\n",
    "import pandas as pd\n",
    "\n",
    "# 已知的數據\n",
    "y_true = np.array([20., 60., 19., 42., 90., 6., 9., 43., 49., 77., 10., 7., 4., 93., 57.])\n",
    "y_pre = np.array([87, 87, 87, 87, 87, 87, 87, 87, 87, 87, 36, 87, 87, 87, 87])\n",
    "\n",
    "# 將 y_true 和 y_pre 組成一個數據框\n",
    "data = np.vstack([y_true,y_pre ]).T\n",
    "df = pd.DataFrame(data, columns=['y_true', 'y_pre'])\n",
    "\n",
    "# 使用 seaborn 的 heatmap 繪製熱圖\n",
    "heatmap_data = df.groupby(['y_true', 'y_pre']).size().unstack().fillna(0)\n",
    "sns.heatmap(heatmap_data, annot=True, cmap=\"YlGnBu\", fmt='g')\n",
    "\n",
    "# 設置標籤\n",
    "plt.xlabel('y_pre')\n",
    "plt.ylabel('y_true')\n",
    "plt.title('Confusion Matrix Heatmap')\n",
    "\n",
    "plt.show()\n"
   ]
  },
  {
   "cell_type": "code",
   "execution_count": 2,
   "id": "3deca01f-b03e-49f5-9540-fbdc92c4db2f",
   "metadata": {
    "tags": []
   },
   "outputs": [
    {
     "data": {
      "image/png": "[encoded data removed]",
      "text/plain": [
       "<Figure size 640x480 with 1 Axes>"
      ]
     },
     "metadata": {},
     "output_type": "display_data"
    }
   ],
   "source": [
    "import matplotlib.pyplot as plt\n",
    "\n",
    "y_true = [20., 60., 19., 42., 90., 6., 9., 43., 49., 77., 10., 7., 4., 93., 57.]\n",
    "y_pre = [87, 87, 87, 87, 87, 87, 87, 87, 87, 87, 36, 87, 87, 87, 87]\n",
    "\n",
    "plt.plot(y_true, y_pre,'o')  # 使用 'o' 表示點狀圖\n",
    "plt.xlabel('y_true')\n",
    "plt.ylabel('y_pre')\n",
    "plt.title('Relationship between y_true and y_pre')\n",
    "plt.show()\n"
   ]
  },
  {
   "cell_type": "code",
   "execution_count": 30,
   "id": "bc94ece0-3650-4d0a-9159-3321f416f08a",
   "metadata": {
    "tags": []
   },
   "outputs": [
    {
     "data": {
      "image/png": "[encoded data removed]",
      "text/plain": [
       "<Figure size 640x480 with 1 Axes>"
      ]
     },
     "metadata": {},
     "output_type": "display_data"
    }
   ],
   "source": [
    "import numpy as np\n",
    "import matplotlib.pyplot as plt\n",
    "\n",
    "\n",
    "\n",
    "\n",
    "betas=np.logspace(-2,3,100)\n",
    "\n",
    "def get_Te_dis(Rh):\n",
    "    Te=[]\n",
    "    for beta in betas:\n",
    "        R_L=1\n",
    "        y=R_L*1/(1+beta*beta)+(Rh*beta*beta)/(1+beta*beta)\n",
    "        T_e=1/y\n",
    "        Te.append(T_e)\n",
    "    return Te\n",
    "\n",
    "\n",
    "Te_Rh1=get_Te_dis(1)\n",
    "Te_Rh10=get_Te_dis(10)\n",
    "Te_Rh20=get_Te_dis(20)\n",
    "Te_Rh40=get_Te_dis(40)\n",
    "Te_Rh80=get_Te_dis(80)\n",
    "\n",
    "\n",
    "plt.plot(b, Te_Rh10,label=r'$R_h$=10')# 使用 'o' 表示點狀圖\n",
    "plt.plot(b, Te_Rh20,label=r'$R_h$=20')\n",
    "plt.plot(b, Te_Rh80,label=r'$R_h$=80')\n",
    "plt.xscale('log')\n",
    "plt.yscale('log')\n",
    "plt.xlabel(r'$\\beta$')\n",
    "plt.ylabel(r'$T_e$')\n",
    "plt.title(r'Relationship between $T_e$ and $\\beta$')\n",
    "plt.legend()\n",
    "plt.show()"
   ]
  },
  {
   "cell_type": "code",
   "execution_count": 27,
   "id": "6f50cad1-2220-4131-8d08-ac4a73de2661",
   "metadata": {
    "tags": []
   },
   "outputs": [
    {
     "data": {
      "image/png": "[encoded data removed]",
      "text/plain": [
       "<Figure size 800x600 with 1 Axes>"
      ]
     },
     "metadata": {},
     "output_type": "display_data"
    }
   ],
   "source": [
    "import matplotlib.pyplot as plt\n",
    "\n",
    "y_true = [20., 60., 19., 42., 90., 6., 9., 43., 49., 77., 10., 7., 4., 93., 57.]\n",
    "y_pre = [87, 87, 87, 87, 87, 87, 87, 87, 87, 87, 36, 87, 87, 87, 87]\n",
    "\n",
    "plt.figure(figsize=(8, 6))\n",
    "plt.scatter(y_true, y_pre, marker='o', color='blue')\n",
    "#plt.plot([min(y_true), max(y_true)], [min(y_true), max(y_true)], linestyle='--', color='red')  # 將對角線畫出，作為參考\n",
    "plt.xlabel('True Values')\n",
    "plt.ylabel('Predicted Values')\n",
    "plt.title('Scatter plot of True vs Predicted Values')\n",
    "plt.grid(True)\n",
    "plt.show()\n"
   ]
  },
  {
   "cell_type": "code",
   "execution_count": 4,
   "id": "afcfb33c-3a01-4a46-90ac-fe9367682ad1",
   "metadata": {
    "tags": []
   },
   "outputs": [
    {
     "name": "stdout",
     "output_type": "stream",
     "text": [
      "GPU Name: NVIDIA RTX A5000\n",
      "Compute Capability: 8.6\n",
      "Total GPU Memory: 23.69 GB\n"
     ]
    }
   ],
   "source": [
    "import torch\n",
    "\n",
    "# 檢查是否有可用的 CUDA 裝置\n",
    "if torch.cuda.is_available():\n",
    "    # 獲取第一個 CUDA 裝置的屬性\n",
    "    properties = torch.cuda.get_device_properties(3)\n",
    "    \n",
    "    # 獲取算力（compute capability）\n",
    "    compute_capability = properties.major + properties.minor / 10.0\n",
    "    \n",
    "    print(f\"GPU Name: {properties.name}\")\n",
    "    print(f\"Compute Capability: {compute_capability}\")\n",
    "    print(f\"Total GPU Memory: {properties.total_memory / (1024**3):.2f} GB\")\n",
    "else:\n",
    "    print(\"No CUDA devices available.\")\n"
   ]
  },
  {
   "cell_type": "code",
   "execution_count": 2,
   "id": "cf71fd10-56d6-4d66-9b02-791340c3ef71",
   "metadata": {
    "tags": []
   },
   "outputs": [
    {
     "name": "stdout",
     "output_type": "stream",
     "text": [
      "2.0.1+cu117\n"
     ]
    }
   ],
   "source": [
    "import torch\n",
    "\n",
    "print(torch.__version__)\n"
   ]
  },
  {
   "cell_type": "code",
   "execution_count": 3,
   "id": "b5dff89b-aec9-4e3e-ac8e-e97198227b8c",
   "metadata": {
    "tags": []
   },
   "outputs": [
    {
     "data": {
      "text/plain": [
       "True"
      ]
     },
     "execution_count": 3,
     "metadata": {},
     "output_type": "execute_result"
    }
   ],
   "source": [
    "torch.cuda.is_available()"
   ]
  },
  {
   "cell_type": "code",
   "execution_count": 5,
   "id": "7c28b370-d675-457a-9e40-cb8fcf719848",
   "metadata": {
    "tags": []
   },
   "outputs": [],
   "source": [
    "import tqdm"
   ]
  },
  {
   "cell_type": "code",
   "execution_count": 6,
   "id": "e74b2018-c304-4243-9773-c43879015b05",
   "metadata": {
    "tags": []
   },
   "outputs": [],
   "source": [
    "import numpy as np\n",
    "import os"
   ]
  },
  {
   "cell_type": "code",
   "execution_count": 3,
   "id": "f773316e-5870-4958-93c5-5f447e52cbb6",
   "metadata": {
    "tags": []
   },
   "outputs": [
    {
     "name": "stdout",
     "output_type": "stream",
     "text": [
      "Collecting torchvision\n",
      "  Downloading torchvision-0.15.2-cp39-cp39-manylinux1_x86_64.whl (6.0 MB)\n",
      "\u001b[2K     \u001b[90m━━━━━━━━━━━━━━━━━━━━━━━━━━━━━━━━━━━━━━━━\u001b[0m \u001b[32m6.0/6.0 MB\u001b[0m \u001b[31m7.9 MB/s\u001b[0m eta \u001b[36m0:00:00\u001b[0m00:01\u001b[0m00:01\u001b[0m\n",
      "\u001b[?25hRequirement already satisfied: numpy in ./miniconda3/envs/mas/lib/python3.9/site-packages (from torchvision) (1.22.3)\n",
      "Requirement already satisfied: requests in ./miniconda3/envs/mas/lib/python3.9/site-packages (from torchvision) (2.31.0)\n",
      "Requirement already satisfied: torch==2.0.1 in ./miniconda3/envs/mas/lib/python3.9/site-packages (from torchvision) (2.0.1)\n",
      "Collecting pillow!=8.3.*,>=5.3.0 (from torchvision)\n",
      "  Obtaining dependency information for pillow!=8.3.*,>=5.3.0 from https://files.pythonhosted.org/packages/5d/cc/3345b8cf6f2b8c5ee33d59e3e2ddb693c45c4f3c88e10859f8b8abf9dc82/Pillow-10.0.1-cp39-cp39-manylinux_2_17_x86_64.manylinux2014_x86_64.whl.metadata\n",
      "  Downloading Pillow-10.0.1-cp39-cp39-manylinux_2_17_x86_64.manylinux2014_x86_64.whl.metadata (9.5 kB)\n",
      "Requirement already satisfied: filelock in ./miniconda3/envs/mas/lib/python3.9/site-packages (from torch==2.0.1->torchvision) (3.12.4)\n",
      "Requirement already satisfied: typing-extensions in ./miniconda3/envs/mas/lib/python3.9/site-packages (from torch==2.0.1->torchvision) (4.7.1)\n",
      "Requirement already satisfied: sympy in ./miniconda3/envs/mas/lib/python3.9/site-packages (from torch==2.0.1->torchvision) (1.12)\n",
      "Requirement already satisfied: networkx in ./miniconda3/envs/mas/lib/python3.9/site-packages (from torch==2.0.1->torchvision) (3.1)\n",
      "Requirement already satisfied: jinja2 in ./miniconda3/envs/mas/lib/python3.9/site-packages (from torch==2.0.1->torchvision) (3.1.2)\n",
      "Requirement already satisfied: nvidia-cuda-nvrtc-cu11==11.7.99 in ./miniconda3/envs/mas/lib/python3.9/site-packages (from torch==2.0.1->torchvision) (11.7.99)\n",
      "Requirement already satisfied: nvidia-cuda-runtime-cu11==11.7.99 in ./miniconda3/envs/mas/lib/python3.9/site-packages (from torch==2.0.1->torchvision) (11.7.99)\n",
      "Requirement already satisfied: nvidia-cuda-cupti-cu11==11.7.101 in ./miniconda3/envs/mas/lib/python3.9/site-packages (from torch==2.0.1->torchvision) (11.7.101)\n",
      "Requirement already satisfied: nvidia-cudnn-cu11==8.5.0.96 in ./miniconda3/envs/mas/lib/python3.9/site-packages (from torch==2.0.1->torchvision) (8.5.0.96)\n",
      "Requirement already satisfied: nvidia-cublas-cu11==11.10.3.66 in ./miniconda3/envs/mas/lib/python3.9/site-packages (from torch==2.0.1->torchvision) (11.10.3.66)\n",
      "Requirement already satisfied: nvidia-cufft-cu11==10.9.0.58 in ./miniconda3/envs/mas/lib/python3.9/site-packages (from torch==2.0.1->torchvision) (10.9.0.58)\n",
      "Requirement already satisfied: nvidia-curand-cu11==10.2.10.91 in ./miniconda3/envs/mas/lib/python3.9/site-packages (from torch==2.0.1->torchvision) (10.2.10.91)\n",
      "Requirement already satisfied: nvidia-cusolver-cu11==11.4.0.1 in ./miniconda3/envs/mas/lib/python3.9/site-packages (from torch==2.0.1->torchvision) (11.4.0.1)\n",
      "Requirement already satisfied: nvidia-cusparse-cu11==11.7.4.91 in ./miniconda3/envs/mas/lib/python3.9/site-packages (from torch==2.0.1->torchvision) (11.7.4.91)\n",
      "Requirement already satisfied: nvidia-nccl-cu11==2.14.3 in ./miniconda3/envs/mas/lib/python3.9/site-packages (from torch==2.0.1->torchvision) (2.14.3)\n",
      "Requirement already satisfied: nvidia-nvtx-cu11==11.7.91 in ./miniconda3/envs/mas/lib/python3.9/site-packages (from torch==2.0.1->torchvision) (11.7.91)\n",
      "Requirement already satisfied: triton==2.0.0 in ./miniconda3/envs/mas/lib/python3.9/site-packages (from torch==2.0.1->torchvision) (2.0.0)\n",
      "Requirement already satisfied: setuptools in ./miniconda3/envs/mas/lib/python3.9/site-packages (from nvidia-cublas-cu11==11.10.3.66->torch==2.0.1->torchvision) (68.0.0)\n",
      "Requirement already satisfied: wheel in ./miniconda3/envs/mas/lib/python3.9/site-packages (from nvidia-cublas-cu11==11.10.3.66->torch==2.0.1->torchvision) (0.38.4)\n",
      "Requirement already satisfied: cmake in ./miniconda3/envs/mas/lib/python3.9/site-packages (from triton==2.0.0->torch==2.0.1->torchvision) (3.27.5)\n",
      "Requirement already satisfied: lit in ./miniconda3/envs/mas/lib/python3.9/site-packages (from triton==2.0.0->torch==2.0.1->torchvision) (16.0.6)\n",
      "Requirement already satisfied: charset-normalizer<4,>=2 in ./miniconda3/envs/mas/lib/python3.9/site-packages (from requests->torchvision) (2.0.4)\n",
      "Requirement already satisfied: idna<4,>=2.5 in ./miniconda3/envs/mas/lib/python3.9/site-packages (from requests->torchvision) (3.4)\n",
      "Requirement already satisfied: urllib3<3,>=1.21.1 in ./miniconda3/envs/mas/lib/python3.9/site-packages (from requests->torchvision) (1.26.16)\n",
      "Requirement already satisfied: certifi>=2017.4.17 in ./miniconda3/envs/mas/lib/python3.9/site-packages (from requests->torchvision) (2023.7.22)\n",
      "Requirement already satisfied: MarkupSafe>=2.0 in ./miniconda3/envs/mas/lib/python3.9/site-packages (from jinja2->torch==2.0.1->torchvision) (2.1.1)\n",
      "Requirement already satisfied: mpmath>=0.19 in ./miniconda3/envs/mas/lib/python3.9/site-packages (from sympy->torch==2.0.1->torchvision) (1.3.0)\n",
      "Downloading Pillow-10.0.1-cp39-cp39-manylinux_2_17_x86_64.manylinux2014_x86_64.whl (3.5 MB)\n",
      "\u001b[2K   \u001b[90m━━━━━━━━━━━━━━━━━━━━━━━━━━━━━━━━━━━━━━━━\u001b[0m \u001b[32m3.5/3.5 MB\u001b[0m \u001b[31m6.2 MB/s\u001b[0m eta \u001b[36m0:00:00\u001b[0m00:01\u001b[0m00:01\u001b[0mm\n",
      "\u001b[?25hInstalling collected packages: pillow, torchvision\n",
      "Successfully installed pillow-10.0.1 torchvision-0.15.2\n",
      "Note: you may need to restart the kernel to use updated packages.\n"
     ]
    }
   ],
   "source": [
    "#pip install torchvision"
   ]
  },
  {
   "cell_type": "code",
   "execution_count": 4,
   "id": "b1477ff6-0651-4904-bd33-31ad63585300",
   "metadata": {
    "tags": []
   },
   "outputs": [],
   "source": [
    "import torchvision.transforms as transforms"
   ]
  },
  {
   "cell_type": "code",
   "execution_count": 6,
   "id": "7b0e8564-6c9c-40b7-841e-08347d83ad2f",
   "metadata": {
    "tags": []
   },
   "outputs": [
    {
     "name": "stdout",
     "output_type": "stream",
     "text": [
      "Requirement already satisfied: Pillow in ./miniconda3/envs/mas/lib/python3.9/site-packages (10.0.1)\n",
      "Note: you may need to restart the kernel to use updated packages.\n"
     ]
    }
   ],
   "source": [
    "pip install Pillow"
   ]
  },
  {
   "cell_type": "code",
   "execution_count": 7,
   "id": "f03600d9-a434-4334-829d-bcf9ad7516f7",
   "metadata": {
    "tags": []
   },
   "outputs": [],
   "source": [
    "from PIL import Image"
   ]
  },
  {
   "cell_type": "code",
   "execution_count": 9,
   "id": "43ac85bd-d301-40cc-83bb-c127c9b4908d",
   "metadata": {
    "tags": []
   },
   "outputs": [],
   "source": [
    "import random"
   ]
  },
  {
   "cell_type": "code",
   "execution_count": 3,
   "id": "13968f5d-ef5b-48f8-8cbf-8b1260ddf667",
   "metadata": {
    "tags": []
   },
   "outputs": [
    {
     "name": "stdout",
     "output_type": "stream",
     "text": [
      "在文件夾 semi_anlayic/raif_img 中找到 2550 張照片。\n"
     ]
    }
   ],
   "source": [
    "import os\n",
    "import glob\n",
    "\n",
    "# 指定文件夹路径\n",
    "folder_path = 'semi_anlayic/raif_img'\n",
    "\n",
    "# 支持的图像文件扩展名\n",
    "image_extensions = ['.jpg', '.jpeg', '.png']\n",
    "\n",
    "# 初始化计数器\n",
    "image_count = 0\n",
    "\n",
    "# 遍历文件夹中的文件\n",
    "for extension in image_extensions:\n",
    "    pattern = os.path.join(folder_path, f'*{extension}')\n",
    "    image_files = glob.glob(pattern)\n",
    "    image_count += len(image_files)\n",
    "\n",
    "# 打印图像数量\n",
    "print(f'在文件夾 {folder_path} 中找到 {image_count} 張照片。')\n"
   ]
  },
  {
   "cell_type": "code",
   "execution_count": 1,
   "id": "bdfd9a18-4b32-47c8-b366-2b00f1e148ec",
   "metadata": {
    "tags": []
   },
   "outputs": [
    {
     "name": "stdout",
     "output_type": "stream",
     "text": [
      "成功解壓缩文件到 abnor_cat_dog。\n"
     ]
    }
   ],
   "source": [
    "import zipfile\n",
    "\n",
    "# 指定 zip 文件路径\n",
    "zip_file_path = 'test.zip'\n",
    "\n",
    "# 指定解压缩目标文件夹路径\n",
    "extract_folder_path = 'abnor_cat_dog'\n",
    "\n",
    "# 打开 zip 文件\n",
    "with zipfile.ZipFile(zip_file_path, 'r') as zip_ref:\n",
    "    # 解压缩到指定目标文件夹\n",
    "    zip_ref.extractall(extract_folder_path)\n",
    "\n",
    "# 打印成功消息\n",
    "print(f'成功解壓缩文件到 {extract_folder_path}。')\n"
   ]
  },
  {
   "cell_type": "code",
   "execution_count": 2,
   "id": "a39b2fce-8fe5-4a37-8728-e0c03a731fce",
   "metadata": {
    "tags": []
   },
   "outputs": [
    {
     "name": "stdout",
     "output_type": "stream",
     "text": [
      "已完成隨機選取並儲存到資料夾 B。\n"
     ]
    }
   ],
   "source": [
    "import os\n",
    "import random\n",
    "import shutil\n",
    "\n",
    "# 資料夾 A 的路徑\n",
    "folder_A_path = 'abnor_cat_dog/test'\n",
    "\n",
    "# 資料夾 B 的路徑\n",
    "folder_B_path = 'abnor_cat_dog/B'\n",
    "\n",
    "# 建立資料夾 B\n",
    "os.makedirs(folder_B_path, exist_ok=True)\n",
    "\n",
    "# 取得資料夾 A 中的所有檔案\n",
    "all_files = os.listdir(folder_A_path)\n",
    "\n",
    "# 隨機選取 1000 張照片\n",
    "selected_files = random.sample(all_files, 1000)\n",
    "\n",
    "# 複製選取的照片到資料夾 B\n",
    "for file_name in selected_files:\n",
    "    file_path_A = os.path.join(folder_A_path, file_name)\n",
    "    file_path_B = os.path.join(folder_B_path, file_name)\n",
    "    shutil.copyfile(file_path_A, file_path_B)\n",
    "\n",
    "print(\"已完成隨機選取並儲存到資料夾 B。\")\n"
   ]
  },
  {
   "cell_type": "code",
   "execution_count": 1,
   "id": "401b2261-c22f-4386-95d5-dcd7f1226a44",
   "metadata": {
    "tags": []
   },
   "outputs": [
    {
     "name": "stdout",
     "output_type": "stream",
     "text": [
      "已完成隨機選取並剪到資料夾 B。\n"
     ]
    }
   ],
   "source": [
    "import os\n",
    "import random\n",
    "import shutil\n",
    "\n",
    "# 資料夾 A 的路徑\n",
    "folder_A_path = 'semi_anlayic/raif_img'\n",
    "\n",
    "# 資料夾 B 的路徑\n",
    "folder_B_path = 'semi_anlayic/raif_img_test'\n",
    "\n",
    "# 建立資料夾 B\n",
    "os.makedirs(folder_B_path, exist_ok=True)\n",
    "\n",
    "# 取得資料夾 A 中的所有檔案\n",
    "all_files = os.listdir(folder_A_path)\n",
    "\n",
    "# 隨機選取 1000 張照片\n",
    "selected_files = random.sample(all_files, 283)\n",
    "\n",
    "# 移動選取的照片到資料夾 B\n",
    "for file_name in selected_files:\n",
    "    file_path_A = os.path.join(folder_A_path, file_name)\n",
    "    file_path_B = os.path.join(folder_B_path, file_name)\n",
    "    shutil.move(file_path_A, file_path_B)\n",
    "\n",
    "print(\"已完成隨機選取並剪到資料夾 B。\")\n"
   ]
  },
  {
   "cell_type": "code",
   "execution_count": 1,
   "id": "94b3e85d-f9dd-4c01-a90d-30409ad6162f",
   "metadata": {
    "tags": []
   },
   "outputs": [
    {
     "name": "stdout",
     "output_type": "stream",
     "text": [
      "平均數組: [4. 5. 6.]\n"
     ]
    }
   ],
   "source": [
    "import numpy as np\n",
    "\n",
    "# 創建三個NumPy數組\n",
    "array1 = np.array([1, 2, 3])\n",
    "array2 = np.array([4, 5, 6])\n",
    "array3 = np.array([7, 8, 9])\n",
    "\n",
    "# 放在一個集合中\n",
    "arrays_collection = [array1, array2, array3]\n",
    "\n",
    "# 計算平均值\n",
    "average_array = np.mean(arrays_collection, axis=0)\n",
    "\n",
    "print(\"平均數組:\", average_array)\n"
   ]
  },
  {
   "cell_type": "code",
   "execution_count": 20,
   "id": "ba4f397e-9d48-4d9b-b1b2-c0ea971d882b",
   "metadata": {
    "tags": []
   },
   "outputs": [],
   "source": [
    "import numpy as np\n",
    "import os\n",
    "import torch.nn as nn\n",
    "import torchvision.transforms as transforms\n",
    "from PIL import Image\n",
    "# \"ConcatDataset\" and \"Subset\" are possibly useful when doing semi-supervised learning.\n",
    "from torch.utils.data import ConcatDataset, DataLoader, Subset, Dataset\n",
    "from torchvision.datasets import DatasetFolder, VisionDataset\n",
    "\n",
    "# This is for the progress bar.\n",
    "from tqdm.auto import tqdm\n",
    "import random\n",
    "import os\n",
    "import cv2\n",
    "import numpy as np\n",
    "\n",
    "def RHdataset(root_dir,label_num,num_samples=None):\n",
    "    if num_samples is None:\n",
    "        num_samples = 100 \n",
    "    Rh_data = []\n",
    "    IMG_SIZE = 224\n",
    "    \n",
    "    img_list = [img_name for img_name in os.listdir(root_dir) if not img_name.startswith('.')]\n",
    "    selected_imgs = random.sample(img_list, min(num_samples, len(img_list)))\n",
    "    for img_name in selected_imgs:\n",
    "        img_path = os.path.join(root_dir, img_name)\n",
    "        kk = cv2.imread(img_path)  # 從path加入照片\n",
    "        if kk is not None:\n",
    "            new_array = cv2.resize(kk, (IMG_SIZE, IMG_SIZE),interpolation=cv2.INTER_LINEAR)           \n",
    "            Rh_data.append(new_array)\n",
    "        else:\n",
    "            print(f\"無法讀取圖像: {img_path}\")\n",
    "    \n",
    "    avg_data=np.mean(Rh_data,axis=0)\n",
    "    \n",
    "    Rh_label = np.ones(1, dtype=int) * label_num\n",
    "    \n",
    "    return avg_data, Rh_label"
   ]
  },
  {
   "cell_type": "code",
   "execution_count": 21,
   "id": "aabedb16-c17d-43ad-a727-d550ddc4b931",
   "metadata": {
    "tags": []
   },
   "outputs": [
    {
     "name": "stdout",
     "output_type": "stream",
     "text": [
      "無法讀取圖像: MAD/NEW_GRMHD_image/MAD_a+0.94/Rh1/foo.txt\n"
     ]
    }
   ],
   "source": [
    "u94_Rh1_data,u94_Rh1_label = RHdataset(root_dir=f\"MAD/NEW_GRMHD_image/MAD_a+0.94/Rh1\",label_num=94)"
   ]
  },
  {
   "cell_type": "code",
   "execution_count": 22,
   "id": "babe2b7a-5fd2-4b73-883b-fa894a92d81f",
   "metadata": {
    "tags": []
   },
   "outputs": [
    {
     "data": {
      "text/plain": [
       "1"
      ]
     },
     "execution_count": 22,
     "metadata": {},
     "output_type": "execute_result"
    }
   ],
   "source": [
    "len(u94_Rh1_label)"
   ]
  },
  {
   "cell_type": "code",
   "execution_count": 23,
   "id": "ad7348bb-cb32-4fe1-83c2-1299c19e0267",
   "metadata": {
    "tags": []
   },
   "outputs": [
    {
     "data": {
      "image/png": "[encoded data removed]",
      "text/plain": [
       "<Figure size 640x480 with 1 Axes>"
      ]
     },
     "metadata": {},
     "output_type": "display_data"
    }
   ],
   "source": [
    "import matplotlib.pyplot as plt\n",
    "u94_Rh1_data = np.clip(u94_Rh1_data, 0, 255).astype(np.uint8)\n",
    "\n",
    "plt.imshow(u94_Rh1_data)\n",
    "plt.show()"
   ]
  },
  {
   "cell_type": "code",
   "execution_count": 45,
   "id": "b9b2758f-7af3-4d11-97b0-60d01f3ff6f7",
   "metadata": {
    "tags": []
   },
   "outputs": [
    {
     "name": "stdout",
     "output_type": "stream",
     "text": [
      "已儲存 mean_MAD/10_a0/Rh1/averaged_0.png\n",
      "已儲存 mean_MAD/10_a0/Rh1/averaged_1.png\n",
      "已儲存 mean_MAD/10_a0/Rh1/averaged_2.png\n",
      "已儲存 mean_MAD/10_a0/Rh1/averaged_3.png\n",
      "已儲存 mean_MAD/10_a0/Rh1/averaged_4.png\n",
      "已儲存 mean_MAD/10_a0/Rh1/averaged_5.png\n",
      "已儲存 mean_MAD/10_a0/Rh1/averaged_6.png\n",
      "已儲存 mean_MAD/10_a0/Rh1/averaged_7.png\n",
      "已儲存 mean_MAD/10_a0/Rh1/averaged_8.png\n",
      "已儲存 mean_MAD/10_a0/Rh1/averaged_9.png\n",
      "ok\n",
      "已儲存 mean_MAD/10_a0/Rh10/averaged_0.png\n",
      "已儲存 mean_MAD/10_a0/Rh10/averaged_1.png\n",
      "已儲存 mean_MAD/10_a0/Rh10/averaged_2.png\n",
      "已儲存 mean_MAD/10_a0/Rh10/averaged_3.png\n",
      "已儲存 mean_MAD/10_a0/Rh10/averaged_4.png\n",
      "已儲存 mean_MAD/10_a0/Rh10/averaged_5.png\n",
      "已儲存 mean_MAD/10_a0/Rh10/averaged_6.png\n",
      "已儲存 mean_MAD/10_a0/Rh10/averaged_7.png\n",
      "已儲存 mean_MAD/10_a0/Rh10/averaged_8.png\n",
      "已儲存 mean_MAD/10_a0/Rh10/averaged_9.png\n",
      "ok\n",
      "已儲存 mean_MAD/10_a0/Rh20/averaged_0.png\n",
      "已儲存 mean_MAD/10_a0/Rh20/averaged_1.png\n",
      "已儲存 mean_MAD/10_a0/Rh20/averaged_2.png\n",
      "已儲存 mean_MAD/10_a0/Rh20/averaged_3.png\n",
      "已儲存 mean_MAD/10_a0/Rh20/averaged_4.png\n",
      "已儲存 mean_MAD/10_a0/Rh20/averaged_5.png\n",
      "已儲存 mean_MAD/10_a0/Rh20/averaged_6.png\n",
      "已儲存 mean_MAD/10_a0/Rh20/averaged_7.png\n",
      "已儲存 mean_MAD/10_a0/Rh20/averaged_8.png\n",
      "已儲存 mean_MAD/10_a0/Rh20/averaged_9.png\n",
      "ok\n",
      "已儲存 mean_MAD/10_a0/Rh40/averaged_0.png\n",
      "已儲存 mean_MAD/10_a0/Rh40/averaged_1.png\n",
      "已儲存 mean_MAD/10_a0/Rh40/averaged_2.png\n",
      "已儲存 mean_MAD/10_a0/Rh40/averaged_3.png\n",
      "已儲存 mean_MAD/10_a0/Rh40/averaged_4.png\n",
      "已儲存 mean_MAD/10_a0/Rh40/averaged_5.png\n",
      "已儲存 mean_MAD/10_a0/Rh40/averaged_6.png\n",
      "已儲存 mean_MAD/10_a0/Rh40/averaged_7.png\n",
      "已儲存 mean_MAD/10_a0/Rh40/averaged_8.png\n",
      "已儲存 mean_MAD/10_a0/Rh40/averaged_9.png\n",
      "ok\n",
      "已儲存 mean_MAD/10_a0/Rh80/averaged_0.png\n",
      "已儲存 mean_MAD/10_a0/Rh80/averaged_1.png\n",
      "已儲存 mean_MAD/10_a0/Rh80/averaged_2.png\n",
      "已儲存 mean_MAD/10_a0/Rh80/averaged_3.png\n",
      "已儲存 mean_MAD/10_a0/Rh80/averaged_4.png\n",
      "已儲存 mean_MAD/10_a0/Rh80/averaged_5.png\n",
      "已儲存 mean_MAD/10_a0/Rh80/averaged_6.png\n",
      "已儲存 mean_MAD/10_a0/Rh80/averaged_7.png\n",
      "已儲存 mean_MAD/10_a0/Rh80/averaged_8.png\n",
      "已儲存 mean_MAD/10_a0/Rh80/averaged_9.png\n",
      "ok\n",
      "已儲存 mean_MAD/10_a0/Rh160/averaged_0.png\n",
      "已儲存 mean_MAD/10_a0/Rh160/averaged_1.png\n",
      "已儲存 mean_MAD/10_a0/Rh160/averaged_2.png\n",
      "已儲存 mean_MAD/10_a0/Rh160/averaged_3.png\n",
      "已儲存 mean_MAD/10_a0/Rh160/averaged_4.png\n",
      "已儲存 mean_MAD/10_a0/Rh160/averaged_5.png\n",
      "已儲存 mean_MAD/10_a0/Rh160/averaged_6.png\n",
      "已儲存 mean_MAD/10_a0/Rh160/averaged_7.png\n",
      "已儲存 mean_MAD/10_a0/Rh160/averaged_8.png\n",
      "已儲存 mean_MAD/10_a0/Rh160/averaged_9.png\n",
      "ok\n"
     ]
    }
   ],
   "source": [
    "import cv2\n",
    "import os\n",
    "\n",
    "def average_images(folder_path, save_folder, n):\n",
    "    # 創建儲存結果的資料夾\n",
    "    os.makedirs(save_folder, exist_ok=True)\n",
    "\n",
    "    # 取得資料夾中的所有檔案\n",
    "    files = os.listdir(folder_path)\n",
    "    files.sort()  # 確保檔案順序正確\n",
    "    # 迴圈處理每n張圖\n",
    "    for i in range(1, len(files), n):\n",
    "        # 檢查是否超出索引範圍\n",
    "        if i + n - 1 < len(files):\n",
    "            # 讀取n張圖片\n",
    "            images = [cv2.imread(os.path.join(folder_path, files[i + j])) for j in range(n)]\n",
    "\n",
    "            # 檢查是否成功讀取圖片\n",
    "            if all(img is not None and img.shape == images[0].shape for img in images):\n",
    "                # 計算權重總和\n",
    "                weight_sum = sum(1 / n for _ in range(n))\n",
    "                \n",
    "                # 將n張圖片取平均\n",
    "                averaged_img = cv2.addWeighted(images[0], 1 / n, images[1], 1 / n, 0)\n",
    "                for j in range(2, n):\n",
    "                    averaged_img = cv2.addWeighted(averaged_img, 1, images[j], 1 / n, 0)\n",
    "\n",
    "                # 儲存新的圖片\n",
    "                save_path = os.path.join(save_folder, f'averaged_{i//n}.png')\n",
    "                cv2.imwrite(save_path, averaged_img)\n",
    "                print(f\"已儲存 {save_path}\")\n",
    "            else:\n",
    "                print(f\"圖片讀取失敗或尺寸不同，無法取平均。\")\n",
    "        else:\n",
    "            print(f\"缺少成對的圖片，無法取平均。\")\n",
    "\n",
    "# 使用範例\n",
    "aa='0'\n",
    "bb='10'\n",
    "nn=10\n",
    "\n",
    "folder_path = [f'MAD/NEW_GRMHD_image/MAD_a{aa}/Rh1',f'MAD/NEW_GRMHD_image/MAD_a{aa}/Rh10',f'MAD/NEW_GRMHD_image/MAD_a{aa}/Rh20',\n",
    "               f'MAD/NEW_GRMHD_image/MAD_a{aa}/Rh40',f'MAD/NEW_GRMHD_image/MAD_a{aa}/Rh80',f'MAD/NEW_GRMHD_image/MAD_a{aa}/Rh160']\n",
    "save_folder = [f'mean_MAD/{bb}_a{aa}/Rh1',f'mean_MAD/{bb}_a{aa}/Rh10',f'mean_MAD/{bb}_a{aa}/Rh20',f'mean_MAD/{bb}_a{aa}/Rh40',f'mean_MAD/{bb}_a{aa}/Rh80',f'mean_MAD/{bb}_a{aa}/Rh160']\n",
    "\n",
    "for i,j in zip(folder_path,save_folder):\n",
    "    average_images(folder_path=i, save_folder=j, n=nn)\n",
    "    print('ok')\n"
   ]
  },
  {
   "cell_type": "code",
   "execution_count": 59,
   "id": "aae85723-202c-4bea-9572-1665ec9f8109",
   "metadata": {
    "tags": []
   },
   "outputs": [
    {
     "name": "stdout",
     "output_type": "stream",
     "text": [
      "圖片讀取失敗或尺寸不同，無法取平均。\n",
      "已儲存 mean_MAD/5_a0/Rh160/averaged_1.png\n",
      "已儲存 mean_MAD/5_a0/Rh160/averaged_2.png\n",
      "已儲存 mean_MAD/5_a0/Rh160/averaged_3.png\n",
      "已儲存 mean_MAD/5_a0/Rh160/averaged_4.png\n",
      "已儲存 mean_MAD/5_a0/Rh160/averaged_5.png\n",
      "已儲存 mean_MAD/5_a0/Rh160/averaged_6.png\n",
      "已儲存 mean_MAD/5_a0/Rh160/averaged_7.png\n",
      "已儲存 mean_MAD/5_a0/Rh160/averaged_8.png\n",
      "已儲存 mean_MAD/5_a0/Rh160/averaged_9.png\n",
      "已儲存 mean_MAD/5_a0/Rh160/averaged_10.png\n",
      "已儲存 mean_MAD/5_a0/Rh160/averaged_11.png\n",
      "已儲存 mean_MAD/5_a0/Rh160/averaged_12.png\n",
      "已儲存 mean_MAD/5_a0/Rh160/averaged_13.png\n",
      "已儲存 mean_MAD/5_a0/Rh160/averaged_14.png\n",
      "已儲存 mean_MAD/5_a0/Rh160/averaged_15.png\n",
      "已儲存 mean_MAD/5_a0/Rh160/averaged_16.png\n",
      "已儲存 mean_MAD/5_a0/Rh160/averaged_17.png\n",
      "已儲存 mean_MAD/5_a0/Rh160/averaged_18.png\n",
      "已儲存 mean_MAD/5_a0/Rh160/averaged_19.png\n",
      "缺少成對的圖片，無法取平均。\n",
      "ok\n"
     ]
    }
   ],
   "source": [
    "import cv2\n",
    "import os\n",
    "\n",
    "def average_images(folder_path, save_folder, n=5):\n",
    "    # 創建儲存結果的資料夾\n",
    "    os.makedirs(save_folder, exist_ok=True)\n",
    "\n",
    "    # 取得資料夾中的所有檔案\n",
    "    files = os.listdir(folder_path)\n",
    "    files.sort()  # 確保檔案順序正確\n",
    "\n",
    "    # 迴圈處理每n張圖\n",
    "    for i in range(0, len(files), n):\n",
    "        # 檢查是否超出索引範圍\n",
    "        if i + n - 1 < len(files):\n",
    "            # 讀取n張圖片\n",
    "            images = [cv2.imread(os.path.join(folder_path, files[i + j])) for j in range(n)]\n",
    "\n",
    "            # 檢查是否成功讀取圖片\n",
    "            if all(img is not None and img.shape == images[0].shape for img in images):\n",
    "                # 計算權重總和\n",
    "                weight_sum = sum(1 / n for _ in range(n))\n",
    "                \n",
    "                # 將n張圖片取平均\n",
    "                averaged_img = cv2.addWeighted(images[0], 1 / n, images[1], 1 / n, 0)\n",
    "                for j in range(2, n):\n",
    "                    averaged_img = cv2.addWeighted(averaged_img, 1, images[j], 1 / n, 0)\n",
    "\n",
    "                # 儲存新的圖片\n",
    "                save_path = os.path.join(save_folder, f'averaged_{i//n}.png')\n",
    "                cv2.imwrite(save_path, averaged_img)\n",
    "                print(f\"已儲存 {save_path}\")\n",
    "            else:\n",
    "                print(f\"圖片讀取失敗或尺寸不同，無法取平均。\")\n",
    "        else:\n",
    "            print(f\"缺少成對的圖片，無法取平均。\")\n",
    "\n",
    "# 使用範例\n",
    "folder_path = 'MAD/NEW_GRMHD_image/MAD_a0/Rh160'\n",
    "save_folder = 'mean_MAD/5_a0/Rh160'\n",
    "average_images(folder_path, save_folder, n=5)\n",
    "print('ok')\n"
   ]
  },
  {
   "cell_type": "code",
   "execution_count": 14,
   "id": "161ca581-d86a-41ff-a003-33010197e553",
   "metadata": {
    "tags": []
   },
   "outputs": [
    {
     "data": {
      "text/plain": [
       "<matplotlib.legend.Legend at 0x7f2b1da4f9a0>"
      ]
     },
     "execution_count": 14,
     "metadata": {},
     "output_type": "execute_result"
    },
    {
     "data": {
      "image/png": "[encoded data removed]",
      "text/plain": [
       "<Figure size 640x480 with 1 Axes>"
      ]
     },
     "metadata": {},
     "output_type": "display_data"
    }
   ],
   "source": [
    "import matplotlib.pyplot as plt\n",
    "import numpy as np\n",
    "\n",
    "file_path = 'qq1.txt'\n",
    "data = np.genfromtxt(file_path, delimiter=',', names=True)\n",
    "\n",
    "nr_tr = data['pp']\n",
    "nr_val = data['aa']\n",
    "\n",
    "file_path2 = 'qq2.txt'\n",
    "data2 = np.genfromtxt(file_path2, delimiter=',', names=True)\n",
    "\n",
    "tr = data2['pp']\n",
    "val = data2['aa']\n",
    "\n",
    "#plt.plot(nr_tr,label='normalize training loss')\n",
    "plt.plot(nr_val,label='normalize validation loss')\n",
    "#plt.plot(tr,label='training loss')\n",
    "plt.plot(val,label='validation loss')\n",
    "plt.xlabel('epoch')\n",
    "plt.ylabel('loss')\n",
    "#plt.ylim(0,0.02)\n",
    "plt.title('Normalize vs Non-normalize')\n",
    "plt.legend()"
   ]
  },
  {
   "cell_type": "code",
   "execution_count": 9,
   "id": "89cc383c-dbd7-4186-8426-bd88a6ccc2c3",
   "metadata": {
    "tags": []
   },
   "outputs": [
    {
     "name": "stdout",
     "output_type": "stream",
     "text": [
      "zz array: [0.02261373 0.01073069 0.01049434 0.01036657 0.01020223 0.01011894\n",
      " 0.00999228 0.00999264 0.00969732 0.00959558 0.00959081 0.00930913\n",
      " 0.00902285 0.00892954 0.00871528 0.00854269 0.00820684 0.0079781\n",
      " 0.00794576 0.00745971 0.00753056 0.00741241 0.00709973 0.00691443\n",
      " 0.00660749 0.00671082 0.00630669 0.00625651 0.00628535 0.00610254\n",
      " 0.0058016  0.00572397 0.00557954 0.00562806 0.00534838 0.00527097\n",
      " 0.00528516 0.00494902 0.004738   0.00449253 0.00442705 0.00439159\n",
      " 0.00445459 0.00432456 0.00432226 0.00421193 0.00425235 0.00398554\n",
      " 0.00378063 0.0037389  0.0038379  0.00380396 0.00337414 0.00336089\n",
      " 0.00324736 0.00314271 0.00282069 0.00275965 0.00277172 0.00255538\n",
      " 0.0023788  0.00230857 0.00252443 0.00254729 0.00222815 0.00192303\n",
      " 0.00200947 0.00165241 0.00160033 0.00135352 0.00131758 0.00115306\n",
      " 0.00129354 0.00156141 0.00146908 0.00191683 0.00166726 0.00113989\n",
      " 0.0008857  0.00084284 0.00095131 0.00098989 0.00099556 0.00102241\n",
      " 0.00185033 0.0016778  0.00153933 0.00104378 0.00161688 0.00178226\n",
      " 0.00105833 0.0010275  0.00124087 0.00177237 0.00133053 0.00096162\n",
      " 0.00099907 0.00061058 0.00049734 0.00047272 0.0005249  0.00054116\n",
      " 0.00071437 0.000649   0.0007181  0.00106672 0.00204693 0.00197952\n",
      " 0.00202413 0.00153167 0.00097157 0.00151949 0.00136722 0.00074905\n",
      " 0.00047626 0.00042481 0.00035213 0.00030247 0.00034568 0.0003663\n",
      " 0.00051697 0.00057792 0.00063311 0.00053437 0.0008263  0.0016323\n",
      " 0.0024151  0.00216992 0.00189172 0.00123075 0.0006533  0.00046629\n",
      " 0.00049886 0.0004489  0.00037988 0.00034987 0.00034646 0.00041104\n",
      " 0.00039022 0.00039688]\n",
      "xx array: [0.01135688 0.01044533 0.01053178 0.0105578  0.0104198  0.01020259\n",
      " 0.01045736 0.01005443 0.01028842 0.0106608  0.00951175 0.01056679\n",
      " 0.01000948 0.00970937 0.00971186 0.01052189 0.00906675 0.0097152\n",
      " 0.01046922 0.00889281 0.00799551 0.00831649 0.0088597  0.00839867\n",
      " 0.00834562 0.00838002 0.00748262 0.0086561  0.00845665 0.00685241\n",
      " 0.00696182 0.00734837 0.00670321 0.00617873 0.00625763 0.00949408\n",
      " 0.00742483 0.00588049 0.00623211 0.00619466 0.00585841 0.00601215\n",
      " 0.00570943 0.00585005 0.00572095 0.00592412 0.00522136 0.00770732\n",
      " 0.00516457 0.00589291 0.00578441 0.00567533 0.00556952 0.00543876\n",
      " 0.005289   0.00508296 0.00495543 0.00512192 0.00530532 0.00472674\n",
      " 0.00497659 0.00528375 0.00499457 0.00491244 0.00448562 0.00448334\n",
      " 0.00438435 0.00466334 0.00394169 0.00451923 0.00423679 0.00406222\n",
      " 0.00450644 0.004312   0.00440922 0.0050852  0.00480052 0.00398697\n",
      " 0.0042584  0.0036103  0.00381306 0.00373738 0.00414654 0.00475652\n",
      " 0.00462018 0.00497697 0.00468087 0.00390991 0.00497332 0.00482403\n",
      " 0.00450224 0.00432698 0.0042222  0.00474754 0.00381193 0.00437129\n",
      " 0.00364244 0.00343565 0.00336253 0.00326619 0.00325976 0.00340101\n",
      " 0.00378038 0.0036847  0.00409969 0.00428914 0.00560592 0.0055815\n",
      " 0.00513244 0.00432286 0.00408149 0.00449255 0.00394906 0.00382465\n",
      " 0.00349444 0.00341872 0.00333846 0.0033016  0.00329868 0.00327836\n",
      " 0.00365934 0.00376492 0.00400322 0.00396242 0.00428959 0.00639663\n",
      " 0.00586929 0.00512758 0.00500286 0.00406957 0.0038816  0.00342886\n",
      " 0.00368762 0.00350049 0.00334821 0.00339099 0.00348194 0.00344385\n",
      " 0.00350448 0.00357023]\n"
     ]
    }
   ],
   "source": [
    "import numpy as np\n",
    "\n",
    "# 从文件加载数据\n",
    "file_path = 'qq1.txt'\n",
    "data = np.genfromtxt(file_path, delimiter=',', names=True)\n",
    "\n",
    "# 创建数组\n",
    "zz = data['pp']\n",
    "xx = data['aa']\n",
    "\n",
    "# 打印结果\n",
    "print(\"zz array:\", zz)\n",
    "print(\"xx array:\", xx)\n"
   ]
  },
  {
   "cell_type": "code",
   "execution_count": 1,
   "id": "b0b9ac40-0464-4e1e-a356-595e5614bc95",
   "metadata": {
    "tags": []
   },
   "outputs": [
    {
     "data": {
      "text/plain": [
       "'\\nimport cv2\\nimport os\\nimport numpy as np\\n\\ndef load_images_as_array(folder_path):\\n    image_data = []\\n    \\n    for img_name in os.listdir(folder_path):\\n        if not img_name.startswith(\\'.\\'):\\n            img_path = os.path.join(folder_path, img_name)\\n            img_array = cv2.imread(img_path)\\n            \\n            if img_array is not None:\\n                image_data.append(img_array)\\n            else:\\n                print(f\"無法讀取圖像: {img_path}\")\\n\\n    return image_data\\n\\n# 指定照片所在的路徑\\nimage_folder_path = \"rand_SANE_a+0.94/Rh1/\"\\n\\n# 載入照片並轉為 NumPy array\\nimages_as_array = load_images_as_array(image_folder_path)\\n\\n# 印出每張照片的形狀\\nfor i, img_array in enumerate(images_as_array):\\n    print(f\"照片 {i+1} 形狀: {img_array.shape}\")\\n'"
      ]
     },
     "execution_count": 1,
     "metadata": {},
     "output_type": "execute_result"
    }
   ],
   "source": [
    "'''\n",
    "import cv2\n",
    "import os\n",
    "import numpy as np\n",
    "\n",
    "def load_images_as_array(folder_path):\n",
    "    image_data = []\n",
    "    \n",
    "    for img_name in os.listdir(folder_path):\n",
    "        if not img_name.startswith('.'):\n",
    "            img_path = os.path.join(folder_path, img_name)\n",
    "            img_array = cv2.imread(img_path)\n",
    "            \n",
    "            if img_array is not None:\n",
    "                image_data.append(img_array)\n",
    "            else:\n",
    "                print(f\"無法讀取圖像: {img_path}\")\n",
    "\n",
    "    return image_data\n",
    "\n",
    "# 指定照片所在的路徑\n",
    "image_folder_path = \"rand_SANE_a+0.94/Rh1/\"\n",
    "\n",
    "# 載入照片並轉為 NumPy array\n",
    "images_as_array = load_images_as_array(image_folder_path)\n",
    "\n",
    "# 印出每張照片的形狀\n",
    "for i, img_array in enumerate(images_as_array):\n",
    "    print(f\"照片 {i+1} 形狀: {img_array.shape}\")\n",
    "'''"
   ]
  },
  {
   "cell_type": "code",
   "execution_count": 1,
   "id": "08b0f70b-7f06-4d39-af5e-918cf06b5ea6",
   "metadata": {
    "tags": []
   },
   "outputs": [
    {
     "data": {
      "image/jpeg": "[encoded data removed]",
      "text/plain": [
       "<IPython.core.display.Image object>"
      ]
     },
     "execution_count": 1,
     "metadata": {},
     "output_type": "execute_result"
    }
   ],
   "source": [
    "from IPython.display import Image\n",
    "image_path = 'GRMHG/GRMHG_data/SANE_a0/Rh1/image_a0_1000_163_0_230.e9_6.2e9_1.38083e+28_1.jpg'\n",
    "Image(filename=image_path)"
   ]
  },
  {
   "cell_type": "code",
   "execution_count": 2,
   "id": "26dd65c7-eca5-450a-bcee-0217cf4788c3",
   "metadata": {},
   "outputs": [
    {
     "name": "stdout",
     "output_type": "stream",
     "text": [
      "Collecting seaborn\n",
      "  Downloading seaborn-0.12.2-py3-none-any.whl (293 kB)\n",
      "\u001b[2K     \u001b[90m━━━━━━━━━━━━━━━━━━━━━━━━━━━━━━━━━━━━━\u001b[0m \u001b[32m293.3/293.3 kB\u001b[0m \u001b[31m510.3 kB/s\u001b[0m eta \u001b[36m0:00:00\u001b[0ma \u001b[36m0:00:01\u001b[0m\n",
      "\u001b[?25hRequirement already satisfied: numpy!=1.24.0,>=1.17 in ./miniconda3/envs/mas/lib/python3.9/site-packages (from seaborn) (1.22.3)\n",
      "Collecting pandas>=0.25 (from seaborn)\n",
      "  Obtaining dependency information for pandas>=0.25 from https://files.pythonhosted.org/packages/bc/7e/a9e11bd272e3135108892b6230a115568f477864276181eada3a35d03237/pandas-2.1.1-cp39-cp39-manylinux_2_17_x86_64.manylinux2014_x86_64.whl.metadata\n",
      "  Downloading pandas-2.1.1-cp39-cp39-manylinux_2_17_x86_64.manylinux2014_x86_64.whl.metadata (18 kB)\n",
      "Collecting matplotlib!=3.6.1,>=3.1 (from seaborn)\n",
      "  Obtaining dependency information for matplotlib!=3.6.1,>=3.1 from https://files.pythonhosted.org/packages/e0/8b/b62bc50b01bb2d4af96bc0045c39d60209e2701e172789ceace20a0866b2/matplotlib-3.8.0-cp39-cp39-manylinux_2_17_x86_64.manylinux2014_x86_64.whl.metadata\n",
      "  Downloading matplotlib-3.8.0-cp39-cp39-manylinux_2_17_x86_64.manylinux2014_x86_64.whl.metadata (5.8 kB)\n",
      "Collecting contourpy>=1.0.1 (from matplotlib!=3.6.1,>=3.1->seaborn)\n",
      "  Obtaining dependency information for contourpy>=1.0.1 from https://files.pythonhosted.org/packages/2b/c0/24c34c41a180f875419b536125799c61e2330b997d77a5a818a3bc3e08cd/contourpy-1.1.1-cp39-cp39-manylinux_2_17_x86_64.manylinux2014_x86_64.whl.metadata\n",
      "  Downloading contourpy-1.1.1-cp39-cp39-manylinux_2_17_x86_64.manylinux2014_x86_64.whl.metadata (5.9 kB)\n",
      "Collecting cycler>=0.10 (from matplotlib!=3.6.1,>=3.1->seaborn)\n",
      "  Downloading cycler-0.11.0-py3-none-any.whl (6.4 kB)\n",
      "Collecting fonttools>=4.22.0 (from matplotlib!=3.6.1,>=3.1->seaborn)\n",
      "  Obtaining dependency information for fonttools>=4.22.0 from https://files.pythonhosted.org/packages/49/50/2e31753c088d364756daa5bed0dab6a5928ebfd6e6d26f975c8b6d6f754a/fonttools-4.42.1-cp39-cp39-manylinux_2_17_x86_64.manylinux2014_x86_64.whl.metadata\n",
      "  Downloading fonttools-4.42.1-cp39-cp39-manylinux_2_17_x86_64.manylinux2014_x86_64.whl.metadata (150 kB)\n",
      "\u001b[2K     \u001b[90m━━━━━━━━━━━━━━━━━━━━━━━━━━━━━━━━━━━━━\u001b[0m \u001b[32m151.0/151.0 kB\u001b[0m \u001b[31m456.8 kB/s\u001b[0m eta \u001b[36m0:00:00\u001b[0ma \u001b[36m0:00:01\u001b[0m\n",
      "\u001b[?25hCollecting kiwisolver>=1.0.1 (from matplotlib!=3.6.1,>=3.1->seaborn)\n",
      "  Obtaining dependency information for kiwisolver>=1.0.1 from https://files.pythonhosted.org/packages/c0/a8/841594f11d0b88d8aeb26991bc4dac38baa909dc58d0c4262a4f7893bcbf/kiwisolver-1.4.5-cp39-cp39-manylinux_2_12_x86_64.manylinux2010_x86_64.whl.metadata\n",
      "  Downloading kiwisolver-1.4.5-cp39-cp39-manylinux_2_12_x86_64.manylinux2010_x86_64.whl.metadata (6.4 kB)\n",
      "Requirement already satisfied: packaging>=20.0 in ./miniconda3/envs/mas/lib/python3.9/site-packages (from matplotlib!=3.6.1,>=3.1->seaborn) (23.1)\n",
      "Requirement already satisfied: pillow>=6.2.0 in ./miniconda3/envs/mas/lib/python3.9/site-packages (from matplotlib!=3.6.1,>=3.1->seaborn) (10.0.1)\n",
      "Collecting pyparsing>=2.3.1 (from matplotlib!=3.6.1,>=3.1->seaborn)\n",
      "  Obtaining dependency information for pyparsing>=2.3.1 from https://files.pythonhosted.org/packages/39/92/8486ede85fcc088f1b3dba4ce92dd29d126fd96b0008ea213167940a2475/pyparsing-3.1.1-py3-none-any.whl.metadata\n",
      "  Downloading pyparsing-3.1.1-py3-none-any.whl.metadata (5.1 kB)\n",
      "Requirement already satisfied: python-dateutil>=2.7 in ./miniconda3/envs/mas/lib/python3.9/site-packages (from matplotlib!=3.6.1,>=3.1->seaborn) (2.8.2)\n",
      "Collecting importlib-resources>=3.2.0 (from matplotlib!=3.6.1,>=3.1->seaborn)\n",
      "  Obtaining dependency information for importlib-resources>=3.2.0 from https://files.pythonhosted.org/packages/65/6e/09d8816b5cb7a4006ef8ad1717a2703ad9f331dae9717d9f22488a2d6469/importlib_resources-6.1.0-py3-none-any.whl.metadata\n",
      "  Downloading importlib_resources-6.1.0-py3-none-any.whl.metadata (4.1 kB)\n",
      "Collecting numpy!=1.24.0,>=1.17 (from seaborn)\n",
      "  Obtaining dependency information for numpy!=1.24.0,>=1.17 from https://files.pythonhosted.org/packages/75/cd/7ae0f2cd3fc68aea6cfb2b7e523842e1fa953adb38efabc110d27ba6e423/numpy-1.26.0-cp39-cp39-manylinux_2_17_x86_64.manylinux2014_x86_64.whl.metadata\n",
      "  Downloading numpy-1.26.0-cp39-cp39-manylinux_2_17_x86_64.manylinux2014_x86_64.whl.metadata (58 kB)\n",
      "\u001b[2K     \u001b[90m━━━━━━━━━━━━━━━━━━━━━━━━━━━━━━━━━━━━━━━\u001b[0m \u001b[32m58.5/58.5 kB\u001b[0m \u001b[31m337.6 kB/s\u001b[0m eta \u001b[36m0:00:00\u001b[0ma \u001b[36m0:00:01\u001b[0m\n",
      "\u001b[?25hRequirement already satisfied: pytz>=2020.1 in ./miniconda3/envs/mas/lib/python3.9/site-packages (from pandas>=0.25->seaborn) (2023.3.post1)\n",
      "Collecting tzdata>=2022.1 (from pandas>=0.25->seaborn)\n",
      "  Downloading tzdata-2023.3-py2.py3-none-any.whl (341 kB)\n",
      "\u001b[2K     \u001b[90m━━━━━━━━━━━━━━━━━━━━━━━━━━━━━━━━━━━━━\u001b[0m \u001b[32m341.8/341.8 kB\u001b[0m \u001b[31m314.3 kB/s\u001b[0m eta \u001b[36m0:00:00\u001b[0m00:01\u001b[0m00:01\u001b[0m\n",
      "\u001b[?25hRequirement already satisfied: zipp>=3.1.0 in ./miniconda3/envs/mas/lib/python3.9/site-packages (from importlib-resources>=3.2.0->matplotlib!=3.6.1,>=3.1->seaborn) (3.11.0)\n",
      "Requirement already satisfied: six>=1.5 in ./miniconda3/envs/mas/lib/python3.9/site-packages (from python-dateutil>=2.7->matplotlib!=3.6.1,>=3.1->seaborn) (1.16.0)\n",
      "Downloading matplotlib-3.8.0-cp39-cp39-manylinux_2_17_x86_64.manylinux2014_x86_64.whl (11.6 MB)\n",
      "\u001b[2K   \u001b[90m━━━━━━━━━━━━━━━━━━━━━━━━━━━━━━━━━━━━━━━━\u001b[0m \u001b[32m11.6/11.6 MB\u001b[0m \u001b[31m103.0 kB/s\u001b[0m eta \u001b[36m0:00:00\u001b[0m00:01\u001b[0m00:03\u001b[0m\n",
      "\u001b[?25hDownloading pandas-2.1.1-cp39-cp39-manylinux_2_17_x86_64.manylinux2014_x86_64.whl (12.3 MB)\n",
      "\u001b[2K   \u001b[90m━━━━━━━━━━━━━━━━━━━━━━━━━━━━━━━━━━━━━━━━\u001b[0m \u001b[32m12.3/12.3 MB\u001b[0m \u001b[31m78.7 kB/s\u001b[0m eta \u001b[36m0:00:00\u001b[0m00:01\u001b[0m00:04\u001b[0m\n",
      "\u001b[?25hDownloading numpy-1.26.0-cp39-cp39-manylinux_2_17_x86_64.manylinux2014_x86_64.whl (18.2 MB)\n",
      "\u001b[2K   \u001b[90m━━━━━━━━━━━━━━━━━━━━━━━━━━━━━━━━━━━━━━━━\u001b[0m \u001b[32m18.2/18.2 MB\u001b[0m \u001b[31m53.0 kB/s\u001b[0m eta \u001b[36m0:00:00\u001b[0m00:01\u001b[0m00:09\u001b[0mm\n",
      "\u001b[?25hDownloading contourpy-1.1.1-cp39-cp39-manylinux_2_17_x86_64.manylinux2014_x86_64.whl (301 kB)\n",
      "\u001b[2K   \u001b[90m━━━━━━━━━━━━━━━━━━━━━━━━━━━━━━━━━━━━━━━\u001b[0m \u001b[32m301.9/301.9 kB\u001b[0m \u001b[31m117.2 kB/s\u001b[0m eta \u001b[36m0:00:00\u001b[0m00:01\u001b[0m00:01\u001b[0m\n",
      "\u001b[?25hDownloading fonttools-4.42.1-cp39-cp39-manylinux_2_17_x86_64.manylinux2014_x86_64.whl (4.5 MB)\n",
      "\u001b[2K   \u001b[90m━━━━━━━━━━━━━━━━━━━━━━━━━━━━━━━━━━━━━━━━\u001b[0m \u001b[32m4.5/4.5 MB\u001b[0m \u001b[31m52.2 kB/s\u001b[0m eta \u001b[36m0:00:00\u001b[0m00:01\u001b[0m00:03\u001b[0mm\n",
      "\u001b[?25hDownloading importlib_resources-6.1.0-py3-none-any.whl (33 kB)\n",
      "Downloading kiwisolver-1.4.5-cp39-cp39-manylinux_2_12_x86_64.manylinux2010_x86_64.whl (1.6 MB)\n",
      "\u001b[2K   \u001b[90m━━━━━━━━━━━━━━━━━━━━━━━━━━━━━━━━━━━━━━━━\u001b[0m \u001b[32m1.6/1.6 MB\u001b[0m \u001b[31m52.2 kB/s\u001b[0m eta \u001b[36m0:00:00\u001b[0m00:01\u001b[0m00:01\u001b[0m\n",
      "\u001b[?25hDownloading pyparsing-3.1.1-py3-none-any.whl (103 kB)\n",
      "\u001b[2K   \u001b[90m━━━━━━━━━━━━━━━━━━━━━━━━━━━━━━━━━━━━━━━\u001b[0m \u001b[32m103.1/103.1 kB\u001b[0m \u001b[31m125.6 kB/s\u001b[0m eta \u001b[36m0:00:00\u001b[0ma \u001b[36m0:00:01\u001b[0m\n",
      "\u001b[?25hInstalling collected packages: tzdata, pyparsing, numpy, kiwisolver, importlib-resources, fonttools, cycler, pandas, contourpy, matplotlib, seaborn\n",
      "  Attempting uninstall: numpy\n",
      "    Found existing installation: numpy 1.22.3\n",
      "    Uninstalling numpy-1.22.3:\n",
      "      Successfully uninstalled numpy-1.22.3\n",
      "\u001b[31mERROR: pip's dependency resolver does not currently take into account all the packages that are installed. This behaviour is the source of the following dependency conflicts.\n",
      "scipy 1.8.1 requires numpy<1.25.0,>=1.17.3, but you have numpy 1.26.0 which is incompatible.\u001b[0m\u001b[31m\n",
      "\u001b[0mSuccessfully installed contourpy-1.1.1 cycler-0.11.0 fonttools-4.42.1 importlib-resources-6.1.0 kiwisolver-1.4.5 matplotlib-3.8.0 numpy-1.26.0 pandas-2.1.1 pyparsing-3.1.1 seaborn-0.12.2 tzdata-2023.3\n",
      "Note: you may need to restart the kernel to use updated packages.\n"
     ]
    }
   ],
   "source": [
    "pip install seaborn"
   ]
  },
  {
   "cell_type": "code",
   "execution_count": 7,
   "id": "0ea0800b-8fb5-44f9-a6e0-5431247a61df",
   "metadata": {
    "tags": []
   },
   "outputs": [],
   "source": [
    "from sklearn.metrics import confusion_matrix"
   ]
  },
  {
   "cell_type": "code",
   "execution_count": 4,
   "id": "b897cdd7-0b15-4213-a2d0-021f3a01bd8e",
   "metadata": {
    "tags": []
   },
   "outputs": [
    {
     "name": "stdout",
     "output_type": "stream",
     "text": [
      "Requirement already satisfied: scipy in ./miniconda3/envs/mas/lib/python3.9/site-packages (1.8.1)\n",
      "Collecting scipy\n",
      "  Obtaining dependency information for scipy from https://files.pythonhosted.org/packages/a3/d3/f88285098505c8e5d141678a24bb9620d902c683f11edc1eb9532b02624e/scipy-1.11.2-cp39-cp39-manylinux_2_17_x86_64.manylinux2014_x86_64.whl.metadata\n",
      "  Downloading scipy-1.11.2-cp39-cp39-manylinux_2_17_x86_64.manylinux2014_x86_64.whl.metadata (59 kB)\n",
      "\u001b[2K     \u001b[90m━━━━━━━━━━━━━━━━━━━━━━━━━━━━━━━━━━━━━━━\u001b[0m \u001b[32m59.1/59.1 kB\u001b[0m \u001b[31m779.9 kB/s\u001b[0m eta \u001b[36m0:00:00\u001b[0ma \u001b[36m0:00:01\u001b[0m\n",
      "\u001b[?25hRequirement already satisfied: numpy<1.28.0,>=1.21.6 in ./miniconda3/envs/mas/lib/python3.9/site-packages (from scipy) (1.26.0)\n",
      "Downloading scipy-1.11.2-cp39-cp39-manylinux_2_17_x86_64.manylinux2014_x86_64.whl (36.5 MB)\n",
      "\u001b[2K   \u001b[90m━━━━━━━━━━━━━━━━━━━━━━━━━━━━━━━━━━━━━━━━\u001b[0m \u001b[32m36.5/36.5 MB\u001b[0m \u001b[31m2.0 MB/s\u001b[0m eta \u001b[36m0:00:00\u001b[0m00:01\u001b[0m00:01\u001b[0mm\n",
      "\u001b[?25hInstalling collected packages: scipy\n",
      "  Attempting uninstall: scipy\n",
      "    Found existing installation: scipy 1.8.1\n",
      "    Uninstalling scipy-1.8.1:\n",
      "      Successfully uninstalled scipy-1.8.1\n",
      "Successfully installed scipy-1.11.2\n",
      "Note: you may need to restart the kernel to use updated packages.\n"
     ]
    }
   ],
   "source": [
    "pip install --upgrade scipy"
   ]
  },
  {
   "cell_type": "code",
   "execution_count": 5,
   "id": "744351ce-69e7-40c5-ae1f-d781ccc0828d",
   "metadata": {
    "tags": []
   },
   "outputs": [],
   "source": [
    "from sklearn.metrics import confusion_matrix"
   ]
  },
  {
   "cell_type": "code",
   "execution_count": 6,
   "id": "0ec5e8bd-eaa1-4c9e-8c35-40ccf231a1d3",
   "metadata": {
    "tags": []
   },
   "outputs": [
    {
     "name": "stdout",
     "output_type": "stream",
     "text": [
      "Requirement already satisfied: numpy in ./miniconda3/envs/mas/lib/python3.9/site-packages (1.26.0)\n",
      "Note: you may need to restart the kernel to use updated packages.\n"
     ]
    }
   ],
   "source": [
    "pip install --upgrade numpy"
   ]
  },
  {
   "cell_type": "code",
   "execution_count": 8,
   "id": "0d6dec3e-1bec-4c1b-ad07-c17b6658d0bc",
   "metadata": {
    "tags": []
   },
   "outputs": [
    {
     "ename": "SyntaxError",
     "evalue": "invalid syntax (3268258827.py, line 1)",
     "output_type": "error",
     "traceback": [
      "\u001b[0;36m  Cell \u001b[0;32mIn[8], line 1\u001b[0;36m\u001b[0m\n\u001b[0;31m    pip uninstall pandas\u001b[0m\n\u001b[0m        ^\u001b[0m\n\u001b[0;31mSyntaxError\u001b[0m\u001b[0;31m:\u001b[0m invalid syntax\n"
     ]
    }
   ],
   "source": [
    "pip uninstall pandas\n",
    "pip install numpy==1.22.4  # 替换成符合 Pandas 要求的版本\n",
    "pip install pandas"
   ]
  },
  {
   "cell_type": "code",
   "execution_count": 13,
   "id": "0dae259f-ef4e-4117-9597-9682e60d5498",
   "metadata": {
    "tags": []
   },
   "outputs": [
    {
     "data": {
      "application/vnd.jupyter.widget-view+json": {
       "model_id": "7a1c7be4727a4d0580a53bb75c67e26f",
       "version_major": 2,
       "version_minor": 0
      },
      "text/plain": [
       "  0%|          | 0/100 [00:00<?, ?it/s]"
      ]
     },
     "metadata": {},
     "output_type": "display_data"
    },
    {
     "data": {
      "image/png": "[encoded data removed]",
      "text/plain": [
       "<Figure size 1200x400 with 4 Axes>"
      ]
     },
     "metadata": {},
     "output_type": "display_data"
    }
   ],
   "source": [
    "import torch\n",
    "import torch.nn as nn\n",
    "import torch.optim as optim\n",
    "from torch.utils.data import DataLoader, TensorDataset\n",
    "from sklearn.metrics import confusion_matrix\n",
    "import numpy as np\n",
    "from sklearn.metrics import multilabel_confusion_matrix\n",
    "from tqdm.auto import tqdm\n",
    "import matplotlib.pyplot as plt\n",
    "\n",
    "# 定義 Autoencoder 模型\n",
    "class Autoencoder(nn.Module):\n",
    "    def __init__(self):\n",
    "        super(conv_autoencoder, self).__init__()\n",
    "        self.encoder = nn.Sequential(\n",
    "            nn.Conv2d(3, 12, 4, stride=2, padding=1),         \n",
    "            nn.ReLU(),\n",
    "            nn.Conv2d(12, 24, 4, stride=2, padding=1),        \n",
    "            nn.ReLU(),\n",
    "\t\t\t      nn.Conv2d(24, 48, 4, stride=2, padding=1),         \n",
    "            nn.ReLU(),\n",
    "        )\n",
    "        self.decoder = nn.Sequential(\n",
    "\t\t\t      nn.ConvTranspose2d(48, 24, 4, stride=2, padding=1),\n",
    "            nn.ReLU(),\n",
    "\t\t\t      nn.ConvTranspose2d(24, 12, 4, stride=2, padding=1), \n",
    "            nn.ReLU(),\n",
    "            nn.ConvTranspose2d(12, 3, 4, stride=2, padding=1),\n",
    "            nn.Tanh(),\n",
    "        )\n",
    "\n",
    "    def forward(self, x):\n",
    "        x = self.encoder(x)\n",
    "        x = self.decoder(x)\n",
    "        return x\n",
    "\n",
    "# 創建正常資料和異常資料\n",
    "normal_data = torch.randn(1000, 28 * 28)  # 1000 筆正常資料\n",
    "anomaly_data = torch.randn(100, 28 * 28)  # 100 筆異常資料\n",
    "\n",
    "# 將正常資料標記為 0，異常資料標記為 1\n",
    "normal_labels = torch.zeros(1000, dtype=torch.long)\n",
    "anomaly_labels = torch.ones(100, dtype=torch.long)\n",
    "\n",
    "# 將多標籤資料轉換為二元資料\n",
    "binary_labels = torch.cat([normal_labels, anomaly_labels], dim=0)\n",
    "binary_data = torch.cat([normal_data, anomaly_data], dim=0)\n",
    "\n",
    "# 將資料合併並建立 DataLoader\n",
    "#all_data = torch.cat([normal_data, anomaly_data], dim=0)\n",
    "#all_labels = torch.cat([normal_labels, anomaly_labels], dim=0)\n",
    "\n",
    "dataset = TensorDataset(binary_data, binary_labels)\n",
    "dataloader = DataLoader(dataset, batch_size=64, shuffle=True)\n",
    "\n",
    "# 初始化模型、損失函數和優化器\n",
    "model = Autoencoder()\n",
    "criterion = nn.MSELoss()\n",
    "optimizer = optim.Adam(model.parameters(), lr=0.001)\n",
    "\n",
    "# 訓練模型\n",
    "num_epochs = 100\n",
    "for epoch in tqdm(range(num_epochs)):\n",
    "    for data, _ in dataloader:\n",
    "        data = data.view(-1, 28 * 28)\n",
    "        optimizer.zero_grad()\n",
    "        outputs = model(data)\n",
    "        loss = criterion(outputs, data)\n",
    "        loss.backward()\n",
    "        optimizer.step()\n",
    "\n",
    "# 模型訓練完成後，使用混淆矩陣評估模型在正常和異常資料上的表現\n",
    "model.eval()\n",
    "all_preds = []\n",
    "all_labels = []\n",
    "\n",
    "with torch.no_grad():\n",
    "    for data, labels in dataloader:\n",
    "        data = data.view(-1, 28 * 28)\n",
    "        outputs = model(data)\n",
    "        preds = torch.where(outputs < 0.5, torch.tensor(0), torch.tensor(1))\n",
    "        all_preds.extend(preds.numpy())\n",
    "        all_labels.extend(labels.numpy())\n",
    "\n",
    "# 計算混淆矩陣\n",
    "binary_preds = np.argmax(all_preds, axis=1)\n",
    "\n",
    "# 計算多標籤混淆矩陣\n",
    "conf_matrix = multilabel_confusion_matrix(all_labels, binary_preds, labels=[0, 1])\n",
    "fig, axs = plt.subplots(1, len(conf_matrix), figsize=(12, 4))\n",
    "\n",
    "# 設定每個子圖之間的間距\n",
    "plt.subplots_adjust(wspace=0.4)\n",
    "\n",
    "# 遍歷每個混淆矩陣\n",
    "for i, (ax, cm) in enumerate(zip(axs, conf_matrix)):\n",
    "    ax.imshow(cm, interpolation='nearest', cmap=plt.cm.Blues)\n",
    "    ax.set_title(f'Confusion Matrix {i}')\n",
    "    plt.colorbar(ax.images[0], ax=ax)\n",
    "\n",
    "    classes = ['Class 0', 'Class 1']\n",
    "    tick_marks = np.arange(len(classes))\n",
    "    ax.set_xticks(tick_marks)\n",
    "    ax.set_yticks(tick_marks)\n",
    "    ax.set_xticklabels(classes)\n",
    "    ax.set_yticklabels(classes)\n",
    "\n",
    "    ax.set_ylabel('True label')\n",
    "    ax.set_xlabel('Predicted label')\n",
    "\n",
    "plt.show()\n",
    "\n"
   ]
  },
  {
   "cell_type": "code",
   "execution_count": null,
   "id": "65580ade-4b70-4141-ba99-fa0b5c8986cd",
   "metadata": {},
   "outputs": [],
   "source": []
  }
 ],
 "metadata": {
  "kernelspec": {
   "display_name": "Python 3 (ipykernel)",
   "language": "python",
   "name": "python3"
  },
  "language_info": {
   "codemirror_mode": {
    "name": "ipython",
    "version": 3
   },
   "file_extension": ".py",
   "mimetype": "text/x-python",
   "name": "python",
   "nbconvert_exporter": "python",
   "pygments_lexer": "ipython3",
   "version": "3.9.18"
  }
 },
 "nbformat": 4,
 "nbformat_minor": 5
}
