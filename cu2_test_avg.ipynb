{
 "cells": [
  {
   "cell_type": "markdown",
   "metadata": {},
   "source": [
    "# If you want to access the version you have already modified, click \"Edit\"\n",
    "# If you want to access the original sample code, click \"...\", then click \"Copy & Edit Notebook\""
   ]
  },
  {
   "cell_type": "code",
   "execution_count": 1,
   "metadata": {
    "tags": []
   },
   "outputs": [
    {
     "name": "stdout",
     "output_type": "stream",
     "text": [
      "2.0.1+cu117\n",
      "True\n"
     ]
    }
   ],
   "source": [
    "import torch\n",
    "print(torch.__version__)\n",
    "print(torch.cuda.is_available())"
   ]
  },
  {
   "cell_type": "code",
   "execution_count": 2,
   "metadata": {},
   "outputs": [],
   "source": [
    "import cv2"
   ]
  },
  {
   "cell_type": "code",
   "execution_count": 3,
   "metadata": {},
   "outputs": [],
   "source": [
    "torch.cuda.set_device(3)"
   ]
  },
  {
   "cell_type": "code",
   "execution_count": 4,
   "metadata": {
    "papermill": {
     "duration": 0.0189,
     "end_time": "2022-02-23T10:03:06.279758",
     "exception": false,
     "start_time": "2022-02-23T10:03:06.260858",
     "status": "completed"
    },
    "tags": []
   },
   "outputs": [],
   "source": [
    "_exp_name = \"pre_semi_spin\"\n",
    "number_class=101\n",
    "test_name='mean10_MAD_spin'\n",
    "a_type_1='10_a+0.94'\n",
    "a_type_2='10_a+0.5'\n",
    "a_type_3='10_a0'"
   ]
  },
  {
   "cell_type": "code",
   "execution_count": 5,
   "metadata": {
    "papermill": {
     "duration": 1.654263,
     "end_time": "2022-02-23T10:03:07.947242",
     "exception": false,
     "start_time": "2022-02-23T10:03:06.292979",
     "status": "completed"
    },
    "tags": []
   },
   "outputs": [],
   "source": [
    "# Import necessary packages.\n",
    "import numpy as np\n",
    "import os\n",
    "import torch.nn as nn\n",
    "import torchvision.transforms as transforms\n",
    "from PIL import Image\n",
    "# \"ConcatDataset\" and \"Subset\" are possibly useful when doing semi-supervised learning.\n",
    "from torch.utils.data import ConcatDataset, DataLoader, Subset, Dataset\n",
    "from torchvision.datasets import DatasetFolder, VisionDataset\n",
    "\n",
    "# This is for the progress bar.\n",
    "from tqdm.auto import tqdm\n",
    "import random"
   ]
  },
  {
   "cell_type": "code",
   "execution_count": 6,
   "metadata": {
    "papermill": {
     "duration": 0.078771,
     "end_time": "2022-02-23T10:03:08.039428",
     "exception": false,
     "start_time": "2022-02-23T10:03:07.960657",
     "status": "completed"
    },
    "tags": []
   },
   "outputs": [],
   "source": [
    "myseed = 1215  # set a random seed for reproducibility\n",
    "torch.backends.cudnn.deterministic = True\n",
    "torch.backends.cudnn.benchmark = False\n",
    "np.random.seed(myseed)\n",
    "torch.manual_seed(myseed)\n",
    "if torch.cuda.is_available():\n",
    "    torch.cuda.manual_seed_all(myseed)"
   ]
  },
  {
   "cell_type": "markdown",
   "metadata": {
    "papermill": {
     "duration": 0.01289,
     "end_time": "2022-02-23T10:03:08.065357",
     "exception": false,
     "start_time": "2022-02-23T10:03:08.052467",
     "status": "completed"
    },
    "tags": []
   },
   "source": [
    "## **Transforms**\n",
    "Torchvision provides lots of useful utilities for image preprocessing, data wrapping as well as data augmentation.\n",
    "\n",
    "Please refer to PyTorch official website for details about different transforms."
   ]
  },
  {
   "cell_type": "code",
   "execution_count": 7,
   "metadata": {
    "papermill": {
     "duration": 0.021406,
     "end_time": "2022-02-23T10:03:08.099437",
     "exception": false,
     "start_time": "2022-02-23T10:03:08.078031",
     "status": "completed"
    },
    "tags": []
   },
   "outputs": [],
   "source": [
    "# Normally, We don't need augmentations in testing and validation.\n",
    "# All we need here is to resize the PIL image and transform it into Tensor.\n",
    "test_tfm = transforms.Compose([\n",
    "    transforms.Resize((224, 224)),\n",
    "    transforms.ToTensor(),\n",
    "])\n",
    "\n",
    "# However, it is also possible to use augmentation in the testing phase.\n",
    "# You may use train_tfm to produce a variety of images and then test using ensemble methods\n",
    "train_tfm = transforms.Compose([\n",
    "    # Resize the image into a fixed shape (height = width = 128)\n",
    "    transforms.Resize((224, 224)),\n",
    "    # You may add some transforms here.\n",
    "    # ToTensor() should be the last one of the transforms.\n",
    "    transforms.ToTensor(),\n",
    "])\n"
   ]
  },
  {
   "cell_type": "markdown",
   "metadata": {
    "papermill": {
     "duration": 0.012739,
     "end_time": "2022-02-23T10:03:08.125181",
     "exception": false,
     "start_time": "2022-02-23T10:03:08.112442",
     "status": "completed"
    },
    "tags": []
   },
   "source": [
    "## **Datasets**\n",
    "The data is labelled by the name, so we load images and label while calling '__getitem__'"
   ]
  },
  {
   "cell_type": "code",
   "execution_count": 8,
   "metadata": {
    "tags": []
   },
   "outputs": [
    {
     "data": {
      "text/plain": [
       "'\\nimport os\\nimport cv2\\nimport numpy as np\\n\\ndef RHdataset(root_dir,label_num,num_samples=None):\\n    if num_samples is None:\\n        num_samples = 100 \\n    Rh_data = []\\n    IMG_SIZE = 224\\n    \\n    img_list = [img_name for img_name in os.listdir(root_dir) if not img_name.startswith(\\'.\\')]\\n    selected_imgs = random.sample(img_list, min(num_samples, len(img_list)))\\n    for img_name in selected_imgs:\\n        img_path = os.path.join(root_dir, img_name)\\n        kk = cv2.imread(img_path)  # 從path加入照片\\n        if kk is not None:\\n            new_array = cv2.resize(kk, (IMG_SIZE, IMG_SIZE),interpolation=cv2.INTER_LINEAR)           \\n            Rh_data.append(new_array)\\n        else:\\n            print(f\"無法讀取圖像: {img_path}\")\\n    \\n    avg_data=np.mean(Rh_data,axis=0)\\n    \\n    Rh_label = np.ones(1, dtype=int) * label_num\\n    \\n    return avg_data, Rh_label\\n'"
      ]
     },
     "execution_count": 8,
     "metadata": {},
     "output_type": "execute_result"
    }
   ],
   "source": [
    "#只有100張疊1張適用\n",
    "\n",
    "'''\n",
    "import os\n",
    "import cv2\n",
    "import numpy as np\n",
    "\n",
    "def RHdataset(root_dir,label_num,num_samples=None):\n",
    "    if num_samples is None:\n",
    "        num_samples = 100 \n",
    "    Rh_data = []\n",
    "    IMG_SIZE = 224\n",
    "    \n",
    "    img_list = [img_name for img_name in os.listdir(root_dir) if not img_name.startswith('.')]\n",
    "    selected_imgs = random.sample(img_list, min(num_samples, len(img_list)))\n",
    "    for img_name in selected_imgs:\n",
    "        img_path = os.path.join(root_dir, img_name)\n",
    "        kk = cv2.imread(img_path)  # 從path加入照片\n",
    "        if kk is not None:\n",
    "            new_array = cv2.resize(kk, (IMG_SIZE, IMG_SIZE),interpolation=cv2.INTER_LINEAR)           \n",
    "            Rh_data.append(new_array)\n",
    "        else:\n",
    "            print(f\"無法讀取圖像: {img_path}\")\n",
    "    \n",
    "    avg_data=np.mean(Rh_data,axis=0)\n",
    "    \n",
    "    Rh_label = np.ones(1, dtype=int) * label_num\n",
    "    \n",
    "    return avg_data, Rh_label\n",
    "'''\n"
   ]
  },
  {
   "cell_type": "code",
   "execution_count": 9,
   "metadata": {},
   "outputs": [],
   "source": [
    "import os\n",
    "import cv2\n",
    "import numpy as np\n",
    "\n",
    "def RHdataset(root_dir,label_num,num_samples=None):\n",
    "    if num_samples is None:\n",
    "        num_samples = 100 \n",
    "    Rh_data = []\n",
    "    IMG_SIZE = 224\n",
    "    \n",
    "    img_list = [img_name for img_name in os.listdir(root_dir) if not img_name.startswith('.')]\n",
    "    selected_imgs = random.sample(img_list, min(num_samples, len(img_list)))\n",
    "    for img_name in selected_imgs:\n",
    "        img_path = os.path.join(root_dir, img_name)\n",
    "        kk = cv2.imread(img_path)  # 從path加入照片\n",
    "        if kk is not None:\n",
    "            new_array = cv2.resize(kk, (IMG_SIZE, IMG_SIZE),interpolation=cv2.INTER_LINEAR)           \n",
    "            Rh_data.append(new_array)\n",
    "        else:\n",
    "            print(f\"無法讀取圖像: {img_path}\")\n",
    "\n",
    "    Rh_label = np.ones(len(Rh_data), dtype=int) * label_num\n",
    "    \n",
    "    return Rh_data, Rh_label"
   ]
  },
  {
   "cell_type": "code",
   "execution_count": 10,
   "metadata": {},
   "outputs": [],
   "source": [
    "u94_Rh1_data,u94_Rh1_label = RHdataset(root_dir=f\"mean_MAD/{a_type_1}/Rh1\",label_num=94)\n",
    "u94_Rh160_data,u94_Rh160_label=RHdataset(root_dir=f\"mean_MAD/{a_type_1}/Rh160\",label_num=94)"
   ]
  },
  {
   "cell_type": "code",
   "execution_count": 11,
   "metadata": {},
   "outputs": [],
   "source": [
    "u94_Rh10_data,u94_Rh10_label=RHdataset(root_dir=f\"mean_MAD/{a_type_1}/Rh10\",label_num=94)\n",
    "u94_Rh20_data,u94_Rh20_label=RHdataset(root_dir=f\"mean_MAD/{a_type_1}/Rh20\",label_num=94)"
   ]
  },
  {
   "cell_type": "code",
   "execution_count": 12,
   "metadata": {},
   "outputs": [],
   "source": [
    "u94_Rh40_data,u94_Rh40_label=RHdataset(root_dir=f\"mean_MAD/{a_type_1}/Rh40\",label_num=94)\n",
    "u94_Rh80_data,u94_Rh80_label=RHdataset(root_dir=f\"mean_MAD/{a_type_1}/Rh80\",label_num=94)"
   ]
  },
  {
   "cell_type": "code",
   "execution_count": 13,
   "metadata": {},
   "outputs": [],
   "source": [
    "n94_Rh1_data,n94_Rh1_label = RHdataset(root_dir=f\"mean_MAD/{a_type_3}/Rh1\",label_num=0)\n",
    "n94_Rh160_data,n94_Rh160_label=RHdataset(root_dir=f\"mean_MAD/{a_type_3}/Rh160\",label_num=0)"
   ]
  },
  {
   "cell_type": "code",
   "execution_count": 14,
   "metadata": {},
   "outputs": [],
   "source": [
    "n94_Rh10_data,n94_Rh10_label = RHdataset(root_dir=f\"mean_MAD/{a_type_3}/Rh10\",label_num=0)\n",
    "n94_Rh20_data,n94_Rh20_label=RHdataset(root_dir=f\"mean_MAD/{a_type_3}/Rh20\",label_num=0)"
   ]
  },
  {
   "cell_type": "code",
   "execution_count": 15,
   "metadata": {},
   "outputs": [],
   "source": [
    "n94_Rh40_data,n94_Rh40_label = RHdataset(root_dir=f\"mean_MAD/{a_type_3}/Rh40\",label_num=0)\n",
    "n94_Rh80_data,n94_Rh80_label=RHdataset(root_dir=f\"mean_MAD/{a_type_3}/Rh80\",label_num=0)"
   ]
  },
  {
   "cell_type": "code",
   "execution_count": 16,
   "metadata": {
    "tags": []
   },
   "outputs": [
    {
     "data": {
      "image/png": "[encoded data removed]",
      "text/plain": [
       "<Figure size 640x480 with 1 Axes>"
      ]
     },
     "metadata": {},
     "output_type": "display_data"
    }
   ],
   "source": [
    "import matplotlib.pyplot as plt\n",
    "u94_Rh1_data = np.clip(u94_Rh1_data, 0, 255).astype(np.uint8)\n",
    "\n",
    "plt.imshow(u94_Rh1_data[0])\n",
    "plt.show()"
   ]
  },
  {
   "cell_type": "code",
   "execution_count": 17,
   "metadata": {},
   "outputs": [],
   "source": [
    "\n",
    "d94_Rh1_data,d94_Rh1_label = RHdataset(root_dir=f\"mean_MAD/{a_type_2}/Rh1\",label_num=50)\n",
    "d94_Rh10_data,d94_Rh10_label=RHdataset(root_dir=f\"mean_MAD/{a_type_2}/Rh10\",label_num=50)\n"
   ]
  },
  {
   "cell_type": "code",
   "execution_count": 18,
   "metadata": {},
   "outputs": [],
   "source": [
    "\n",
    "d94_Rh20_data,d94_Rh20_label=RHdataset(root_dir=f\"mean_MAD/{a_type_2}/Rh20\",label_num=50)\n",
    "d94_Rh40_data,d94_Rh40_label=RHdataset(root_dir=f\"mean_MAD/{a_type_2}/Rh40\",label_num=50)\n"
   ]
  },
  {
   "cell_type": "code",
   "execution_count": 19,
   "metadata": {},
   "outputs": [],
   "source": [
    "\n",
    "d94_Rh80_data,d94_Rh80_label=RHdataset(root_dir=f\"mean_MAD/{a_type_2}/Rh80\",label_num=50)\n",
    "d94_Rh160_data,d94_Rh160_label=RHdataset(root_dir=f\"mean_MAD/{a_type_2}/Rh160\",label_num=50)\n"
   ]
  },
  {
   "cell_type": "code",
   "execution_count": 20,
   "metadata": {},
   "outputs": [
    {
     "name": "stdout",
     "output_type": "stream",
     "text": [
      "10\n"
     ]
    }
   ],
   "source": [
    "print(len(u94_Rh1_label))"
   ]
  },
  {
   "cell_type": "code",
   "execution_count": 21,
   "metadata": {},
   "outputs": [],
   "source": [
    "# torch.nn.Conv2d(in_channels, out_channels, kernel_size, stride, padding)\n",
    "# torch.nn.MaxPool2d(kernel_size, stride, padding)\n",
    "# input 維度 [128,128,3]"
   ]
  },
  {
   "cell_type": "code",
   "execution_count": 22,
   "metadata": {},
   "outputs": [
    {
     "name": "stderr",
     "output_type": "stream",
     "text": [
      "/home/DomCheng/miniconda3/envs/mas/lib/python3.9/site-packages/torchvision/models/_utils.py:208: UserWarning: The parameter 'pretrained' is deprecated since 0.13 and may be removed in the future, please use 'weights' instead.\n",
      "  warnings.warn(\n",
      "/home/DomCheng/miniconda3/envs/mas/lib/python3.9/site-packages/torchvision/models/_utils.py:223: UserWarning: Arguments other than a weight enum or `None` for 'weights' are deprecated since 0.13 and may be removed in the future. The current behavior is equivalent to passing `weights=ResNet18_Weights.IMAGENET1K_V1`. You can also use `weights=ResNet18_Weights.DEFAULT` to get the most up-to-date weights.\n",
      "  warnings.warn(msg)\n"
     ]
    }
   ],
   "source": [
    "import torchvision.models as models\n",
    "# 載入預先訓練的 ResNet-18 模型\n",
    "device = \"cuda\" if torch.cuda.is_available() else \"cpu\"  # \"cuda\" only when GPUs are available.\n",
    "model = models.resnet18(pretrained=True)\n",
    "\n",
    "# 將全連接層（分類層）修改為輸出 10 類的層\n",
    "model.fc = nn.Linear(model.fc.in_features, number_class)\n",
    "\n",
    "model = model.to(device)\n",
    "# 定義 MSE loss\n",
    "criterion = nn.MSELoss()\n",
    "\n",
    "# 定義優化器\n",
    "optimizer = torch.optim.Adam(model.parameters(), lr=5e-6,weight_decay=1e-7)"
   ]
  },
  {
   "cell_type": "code",
   "execution_count": 23,
   "metadata": {},
   "outputs": [
    {
     "name": "stdout",
     "output_type": "stream",
     "text": [
      "----------------------------------------------------------------\n",
      "        Layer (type)               Output Shape         Param #\n",
      "================================================================\n",
      "            Conv2d-1         [-1, 64, 112, 112]           9,408\n",
      "       BatchNorm2d-2         [-1, 64, 112, 112]             128\n",
      "              ReLU-3         [-1, 64, 112, 112]               0\n",
      "         MaxPool2d-4           [-1, 64, 56, 56]               0\n",
      "            Conv2d-5           [-1, 64, 56, 56]          36,864\n",
      "       BatchNorm2d-6           [-1, 64, 56, 56]             128\n",
      "              ReLU-7           [-1, 64, 56, 56]               0\n",
      "            Conv2d-8           [-1, 64, 56, 56]          36,864\n",
      "       BatchNorm2d-9           [-1, 64, 56, 56]             128\n",
      "             ReLU-10           [-1, 64, 56, 56]               0\n",
      "       BasicBlock-11           [-1, 64, 56, 56]               0\n",
      "           Conv2d-12           [-1, 64, 56, 56]          36,864\n",
      "      BatchNorm2d-13           [-1, 64, 56, 56]             128\n",
      "             ReLU-14           [-1, 64, 56, 56]               0\n",
      "           Conv2d-15           [-1, 64, 56, 56]          36,864\n",
      "      BatchNorm2d-16           [-1, 64, 56, 56]             128\n",
      "             ReLU-17           [-1, 64, 56, 56]               0\n",
      "       BasicBlock-18           [-1, 64, 56, 56]               0\n",
      "           Conv2d-19          [-1, 128, 28, 28]          73,728\n",
      "      BatchNorm2d-20          [-1, 128, 28, 28]             256\n",
      "             ReLU-21          [-1, 128, 28, 28]               0\n",
      "           Conv2d-22          [-1, 128, 28, 28]         147,456\n",
      "      BatchNorm2d-23          [-1, 128, 28, 28]             256\n",
      "           Conv2d-24          [-1, 128, 28, 28]           8,192\n",
      "      BatchNorm2d-25          [-1, 128, 28, 28]             256\n",
      "             ReLU-26          [-1, 128, 28, 28]               0\n",
      "       BasicBlock-27          [-1, 128, 28, 28]               0\n",
      "           Conv2d-28          [-1, 128, 28, 28]         147,456\n",
      "      BatchNorm2d-29          [-1, 128, 28, 28]             256\n",
      "             ReLU-30          [-1, 128, 28, 28]               0\n",
      "           Conv2d-31          [-1, 128, 28, 28]         147,456\n",
      "      BatchNorm2d-32          [-1, 128, 28, 28]             256\n",
      "             ReLU-33          [-1, 128, 28, 28]               0\n",
      "       BasicBlock-34          [-1, 128, 28, 28]               0\n",
      "           Conv2d-35          [-1, 256, 14, 14]         294,912\n",
      "      BatchNorm2d-36          [-1, 256, 14, 14]             512\n",
      "             ReLU-37          [-1, 256, 14, 14]               0\n",
      "           Conv2d-38          [-1, 256, 14, 14]         589,824\n",
      "      BatchNorm2d-39          [-1, 256, 14, 14]             512\n",
      "           Conv2d-40          [-1, 256, 14, 14]          32,768\n",
      "      BatchNorm2d-41          [-1, 256, 14, 14]             512\n",
      "             ReLU-42          [-1, 256, 14, 14]               0\n",
      "       BasicBlock-43          [-1, 256, 14, 14]               0\n",
      "           Conv2d-44          [-1, 256, 14, 14]         589,824\n",
      "      BatchNorm2d-45          [-1, 256, 14, 14]             512\n",
      "             ReLU-46          [-1, 256, 14, 14]               0\n",
      "           Conv2d-47          [-1, 256, 14, 14]         589,824\n",
      "      BatchNorm2d-48          [-1, 256, 14, 14]             512\n",
      "             ReLU-49          [-1, 256, 14, 14]               0\n",
      "       BasicBlock-50          [-1, 256, 14, 14]               0\n",
      "           Conv2d-51            [-1, 512, 7, 7]       1,179,648\n",
      "      BatchNorm2d-52            [-1, 512, 7, 7]           1,024\n",
      "             ReLU-53            [-1, 512, 7, 7]               0\n",
      "           Conv2d-54            [-1, 512, 7, 7]       2,359,296\n",
      "      BatchNorm2d-55            [-1, 512, 7, 7]           1,024\n",
      "           Conv2d-56            [-1, 512, 7, 7]         131,072\n",
      "      BatchNorm2d-57            [-1, 512, 7, 7]           1,024\n",
      "             ReLU-58            [-1, 512, 7, 7]               0\n",
      "       BasicBlock-59            [-1, 512, 7, 7]               0\n",
      "           Conv2d-60            [-1, 512, 7, 7]       2,359,296\n",
      "      BatchNorm2d-61            [-1, 512, 7, 7]           1,024\n",
      "             ReLU-62            [-1, 512, 7, 7]               0\n",
      "           Conv2d-63            [-1, 512, 7, 7]       2,359,296\n",
      "      BatchNorm2d-64            [-1, 512, 7, 7]           1,024\n",
      "             ReLU-65            [-1, 512, 7, 7]               0\n",
      "       BasicBlock-66            [-1, 512, 7, 7]               0\n",
      "AdaptiveAvgPool2d-67            [-1, 512, 1, 1]               0\n",
      "           Linear-68                  [-1, 101]          51,813\n",
      "================================================================\n",
      "Total params: 11,228,325\n",
      "Trainable params: 11,228,325\n",
      "Non-trainable params: 0\n",
      "----------------------------------------------------------------\n",
      "Input size (MB): 0.57\n",
      "Forward/backward pass size (MB): 62.79\n",
      "Params size (MB): 42.83\n",
      "Estimated Total Size (MB): 106.19\n",
      "----------------------------------------------------------------\n"
     ]
    }
   ],
   "source": [
    "from torchsummary import summary\n",
    "device = \"cuda\" if torch.cuda.is_available() else \"cpu\"  # \"cuda\" only when GPUs are available.\n",
    "summary(model, (3, 224, 224))"
   ]
  },
  {
   "cell_type": "code",
   "execution_count": 24,
   "metadata": {
    "tags": []
   },
   "outputs": [],
   "source": [
    "train_data=np.array(u94_Rh1_data)\n",
    "label=np.array(u94_Rh1_label)\n",
    "#d94_Rh1_data,d94_Rh10_data,d94_Rh20_data,d94_Rh40_data,d94_Rh80_data,d94_Rh160_data\n",
    "#d94_Rh1_label,d94_Rh10_label,d94_Rh20_label,d94_Rh40_label,d94_Rh80_label,d94_Rh160_label\n",
    "data_targets=[u94_Rh10_data,u94_Rh20_data,u94_Rh40_data,u94_Rh80_data,u94_Rh160_data,\n",
    "             d94_Rh1_data,d94_Rh10_data,d94_Rh20_data,d94_Rh40_data,d94_Rh80_data,d94_Rh160_data,\n",
    "             n94_Rh1_data,n94_Rh10_data,n94_Rh20_data,n94_Rh40_data,n94_Rh80_data,n94_Rh160_data]\n",
    "\n",
    "data_labels=[u94_Rh10_label,u94_Rh20_label,u94_Rh40_label,u94_Rh80_label,u94_Rh160_label,\n",
    "            d94_Rh1_label,d94_Rh10_label,d94_Rh20_label,d94_Rh40_label,d94_Rh80_label,d94_Rh160_label,\n",
    "            n94_Rh1_label,n94_Rh10_label,n94_Rh20_label,n94_Rh40_label,n94_Rh80_label,n94_Rh160_label]\n",
    "for i in data_targets:\n",
    "    gg=np.array(i)\n",
    "    train_data=np.append(train_data,gg,axis=0)\n",
    "\n",
    "for i in data_labels:\n",
    "    jj=np.array(i)\n",
    "    label=np.append(label,jj)\n"
   ]
  },
  {
   "cell_type": "code",
   "execution_count": 25,
   "metadata": {
    "tags": []
   },
   "outputs": [],
   "source": [
    "class RhDataset(Dataset):\n",
    "    def __init__(self):\n",
    "        self.x=train_data\n",
    "        self.y=label\n",
    "\n",
    "    def __getitem__(self, idx):\n",
    "        \n",
    "        return self.x[idx], self.y[idx]\n",
    "\n",
    "    def __len__(self):\n",
    "        return len(self.y)"
   ]
  },
  {
   "cell_type": "code",
   "execution_count": 26,
   "metadata": {
    "tags": []
   },
   "outputs": [],
   "source": [
    "batch_size=32\n",
    "train_set = RhDataset()"
   ]
  },
  {
   "cell_type": "code",
   "execution_count": 27,
   "metadata": {
    "tags": []
   },
   "outputs": [
    {
     "data": {
      "text/plain": [
       "'\\ntrain_data_point, label_0 = train_set[101]\\nprint(label_0)\\n'"
      ]
     },
     "execution_count": 27,
     "metadata": {},
     "output_type": "execute_result"
    }
   ],
   "source": [
    "'''\n",
    "train_data_point, label_0 = train_set[101]\n",
    "print(label_0)\n",
    "'''"
   ]
  },
  {
   "cell_type": "code",
   "execution_count": 28,
   "metadata": {},
   "outputs": [],
   "source": [
    "#train_loader = DataLoader(train_dataset, batch_size=batch_size, shuffle=True, num_workers=0, pin_memory=True)\n",
    "#valid_loader = torch.utils.data.DataLoader(valid_dataset, batch_size=batch_size, shuffle=True,num_workers=0, pin_memory=True)\n",
    "test_loader = torch.utils.data.DataLoader(train_set, batch_size=batch_size, shuffle=True,num_workers=0, pin_memory=True)"
   ]
  },
  {
   "cell_type": "code",
   "execution_count": 29,
   "metadata": {
    "tags": []
   },
   "outputs": [
    {
     "data": {
      "text/plain": [
       "180"
      ]
     },
     "execution_count": 29,
     "metadata": {},
     "output_type": "execute_result"
    }
   ],
   "source": [
    "len(train_set)"
   ]
  },
  {
   "cell_type": "markdown",
   "metadata": {
    "papermill": {
     "duration": 0.498773,
     "end_time": "2022-02-23T19:10:20.961802",
     "exception": false,
     "start_time": "2022-02-23T19:10:20.463029",
     "status": "completed"
    },
    "tags": []
   },
   "source": [
    "## **Test 資料並儲存成.txt與.png**"
   ]
  },
  {
   "cell_type": "code",
   "execution_count": 30,
   "metadata": {},
   "outputs": [
    {
     "data": {
      "text/plain": [
       "'\\nimport seaborn as sns\\nimport matplotlib.pyplot as plt\\n\\ndevice = \"cuda\" if torch.cuda.is_available() else \"cpu\"  # \"cuda\" only when GPUs are available.\\n\\nmodel = models.resnet18(pretrained=True)\\n\\n# 將全連接層（分類層）修改為輸出 10 類的層\\nmodel.fc = nn.Linear(model.fc.in_features, 101)\\n\\nmodel_best = model.to(device)\\nmodel_best.load_state_dict(torch.load(f\"{_exp_name}_{myseed}_best.ckpt\"))\\nmodel_best.eval()\\n\\n\\ntotal_y_true = []\\ntotal_predi = []\\n\\nfor p in tqdm(range(len(train_set))):\\n    \\n    for batch in test_loader:\\n        # A batch consists of image data and corresponding labels.\\n        imgs, labels = batch\\n        #print(len(labels))\\n        imgs = imgs.float()\\n        imgs = torch.unsqueeze(imgs, dim=0)  # 在第0维上增加一个维度\\n        imgs = imgs.permute(0,3, 2, 1)\\n        \\n        # We don\\'t need gradient in validation.\\n        # Using torch.no_grad() accelerates the forward process.\\n        with torch.no_grad():\\n            test_pred = model_best(imgs.to(device))\\n    \\n    total_predi.append(test_pred.argmax(dim=-1).cpu())\\n    #print(f\\'epoch {p} is ok.\\') \\n    p=p+1\\n    \\ntotal_y_true.append(labels.cpu())\\n\\n\\n#llabels=np.array([\\'Rh1\\',\\'Rh10\\',\\'Rh20\\',\\'Rh40\\',\\'Rh80\\',\\'Rh160\\'])   \\n#print(len(np.concatenate(total_y_true)))\\n#print(len(np.concatenate(total_predi)))\\n'"
      ]
     },
     "execution_count": 30,
     "metadata": {},
     "output_type": "execute_result"
    }
   ],
   "source": [
    "#100疊1張適用\n",
    "\n",
    "'''\n",
    "import seaborn as sns\n",
    "import matplotlib.pyplot as plt\n",
    "\n",
    "device = \"cuda\" if torch.cuda.is_available() else \"cpu\"  # \"cuda\" only when GPUs are available.\n",
    "\n",
    "model = models.resnet18(pretrained=True)\n",
    "\n",
    "# 將全連接層（分類層）修改為輸出 10 類的層\n",
    "model.fc = nn.Linear(model.fc.in_features, 101)\n",
    "\n",
    "model_best = model.to(device)\n",
    "model_best.load_state_dict(torch.load(f\"{_exp_name}_{myseed}_best.ckpt\"))\n",
    "model_best.eval()\n",
    "\n",
    "\n",
    "total_y_true = []\n",
    "total_predi = []\n",
    "\n",
    "for p in tqdm(range(len(train_set))):\n",
    "    \n",
    "    for batch in test_loader:\n",
    "        # A batch consists of image data and corresponding labels.\n",
    "        imgs, labels = batch\n",
    "        #print(len(labels))\n",
    "        imgs = imgs.float()\n",
    "        imgs = torch.unsqueeze(imgs, dim=0)  # 在第0维上增加一个维度\n",
    "        imgs = imgs.permute(0,3, 2, 1)\n",
    "        \n",
    "        # We don't need gradient in validation.\n",
    "        # Using torch.no_grad() accelerates the forward process.\n",
    "        with torch.no_grad():\n",
    "            test_pred = model_best(imgs.to(device))\n",
    "    \n",
    "    total_predi.append(test_pred.argmax(dim=-1).cpu())\n",
    "    #print(f'epoch {p} is ok.') \n",
    "    p=p+1\n",
    "    \n",
    "total_y_true.append(labels.cpu())\n",
    "\n",
    "\n",
    "#llabels=np.array(['Rh1','Rh10','Rh20','Rh40','Rh80','Rh160'])   \n",
    "#print(len(np.concatenate(total_y_true)))\n",
    "#print(len(np.concatenate(total_predi)))\n",
    "'''"
   ]
  },
  {
   "cell_type": "code",
   "execution_count": 31,
   "metadata": {},
   "outputs": [
    {
     "name": "stderr",
     "output_type": "stream",
     "text": [
      "/home/DomCheng/miniconda3/envs/mas/lib/python3.9/site-packages/torchvision/models/_utils.py:208: UserWarning: The parameter 'pretrained' is deprecated since 0.13 and may be removed in the future, please use 'weights' instead.\n",
      "  warnings.warn(\n",
      "/home/DomCheng/miniconda3/envs/mas/lib/python3.9/site-packages/torchvision/models/_utils.py:223: UserWarning: Arguments other than a weight enum or `None` for 'weights' are deprecated since 0.13 and may be removed in the future. The current behavior is equivalent to passing `weights=ResNet18_Weights.IMAGENET1K_V1`. You can also use `weights=ResNet18_Weights.DEFAULT` to get the most up-to-date weights.\n",
      "  warnings.warn(msg)\n"
     ]
    },
    {
     "data": {
      "application/vnd.jupyter.widget-view+json": {
       "model_id": "59173055285343778eb3e95e60be0537",
       "version_major": 2,
       "version_minor": 0
      },
      "text/plain": [
       "  0%|          | 0/200 [00:00<?, ?it/s]"
      ]
     },
     "metadata": {},
     "output_type": "display_data"
    }
   ],
   "source": [
    "import seaborn as sns\n",
    "import matplotlib.pyplot as plt\n",
    "\n",
    "device = \"cuda\" if torch.cuda.is_available() else \"cpu\"  # \"cuda\" only when GPUs are available.\n",
    "\n",
    "model = models.resnet18(pretrained=True)\n",
    "\n",
    "# 將全連接層（分類層）修改為輸出 10 類的層\n",
    "model.fc = nn.Linear(model.fc.in_features, 101)\n",
    "\n",
    "model_best = model.to(device)\n",
    "model_best.load_state_dict(torch.load(f\"{_exp_name}_{myseed}_best.ckpt\"))\n",
    "model_best.eval()\n",
    "\n",
    "\n",
    "total_y_true = []\n",
    "total_predi = []\n",
    "\n",
    "for p in tqdm(range(200)):\n",
    "    \n",
    "    for batch in test_loader:\n",
    "        # A batch consists of image data and corresponding labels.\n",
    "        imgs, labels = batch\n",
    "        imgs = imgs.float()\n",
    "        imgs = imgs.permute(0, 3, 1, 2)\n",
    "        #imgs = torch.unsqueeze(imgs, dim=0)  # 在第0维上增加一个维度\n",
    "        \n",
    "        # We don't need gradient in validation.\n",
    "        # Using torch.no_grad() accelerates the forward process.\n",
    "        with torch.no_grad():\n",
    "            test_pred = model_best(imgs.to(device))\n",
    "    total_y_true.append(labels.cpu())\n",
    "    total_predi.append(test_pred.argmax(dim=-1).cpu())\n",
    "    #print(f'epoch {p} is ok.') \n",
    "    p=p+1\n"
   ]
  },
  {
   "cell_type": "code",
   "execution_count": 32,
   "metadata": {
    "tags": []
   },
   "outputs": [
    {
     "name": "stdout",
     "output_type": "stream",
     "text": [
      "4000\n"
     ]
    }
   ],
   "source": [
    "print(len(np.concatenate(total_y_true)))"
   ]
  },
  {
   "cell_type": "code",
   "execution_count": 33,
   "metadata": {
    "tags": []
   },
   "outputs": [
    {
     "name": "stdout",
     "output_type": "stream",
     "text": [
      "4000\n"
     ]
    }
   ],
   "source": [
    "print(len(np.concatenate(total_predi)))"
   ]
  },
  {
   "cell_type": "code",
   "execution_count": 42,
   "metadata": {
    "tags": []
   },
   "outputs": [
    {
     "name": "stdout",
     "output_type": "stream",
     "text": [
      "Data has been saved to mean10_MAD_spin_1215.txt.\n"
     ]
    }
   ],
   "source": [
    "\n",
    "import numpy as np\n",
    "\n",
    "# 將 pp 和 aa 轉換成 numpy array\n",
    "true_array = np.concatenate(total_y_true)\n",
    "predi_array = np.concatenate(total_predi)\n",
    "\n",
    "# 儲存到文本檔案\n",
    "np.savetxt(f'{test_name}_{myseed}.txt', np.column_stack((true_array, predi_array)), delimiter=',', header='true,predi', comments='')\n",
    "\n",
    "print(f\"Data has been saved to {test_name}_{myseed}.txt.\")\n"
   ]
  },
  {
   "cell_type": "code",
   "execution_count": 41,
   "metadata": {
    "tags": []
   },
   "outputs": [
    {
     "data": {
      "image/png": "[encoded data removed]",
      "text/plain": [
       "<Figure size 800x600 with 1 Axes>"
      ]
     },
     "metadata": {},
     "output_type": "display_data"
    }
   ],
   "source": [
    "import matplotlib.pyplot as plt\n",
    "\n",
    "\n",
    "yy_true=np.concatenate(total_y_true)\n",
    "yy_pre=np.concatenate(total_predi)\n",
    "\n",
    "\n",
    "plt.figure(figsize=(8, 6))\n",
    "plt.scatter(yy_true,yy_pre, marker='o', color='blue',s=7, alpha=0.5)\n",
    "plt.plot([max(yy_true), min(yy_true)], [max(yy_true), min(yy_true)], linestyle='--', color='red')  # 將對角線畫出，作為參考\n",
    "plt.xlabel('True Values(spin*100)')\n",
    "plt.ylabel('Predicted Values(spin*100)')\n",
    "plt.xticks([0, 50, 94])\n",
    "plt.yticks([0, 50, 94])\n",
    "plt.title(f'Distribution of {test_name} ')\n",
    "plt.grid(True)\n",
    "plt.savefig(f\"Distribution_{test_name}_{_exp_name}_{myseed}.png\")\n",
    "plt.show()"
   ]
  },
  {
   "cell_type": "code",
   "execution_count": 35,
   "metadata": {
    "tags": []
   },
   "outputs": [],
   "source": [
    "cat_total_y_true = torch.cat(total_y_true)\n",
    "\n",
    "# 將 PyTorch 張量轉換為 NumPy 陣列\n",
    "cat_total_y_true = cat_total_y_true.numpy()\n",
    "cat_total_y_true = cat_total_y_true.flatten()\n",
    "\n",
    "cat_total_y_pre = torch.cat(total_predi)\n",
    "\n",
    "# 將 PyTorch 張量轉換為 NumPy 陣列\n",
    "cat_total_y_pre = cat_total_y_pre.numpy()\n",
    "cat_total_y_pre = cat_total_y_pre.flatten()\n",
    "#print(cat_total_y_true.flatten())"
   ]
  },
  {
   "cell_type": "code",
   "execution_count": 36,
   "metadata": {
    "tags": []
   },
   "outputs": [],
   "source": [
    "for i in [0, 50, 94]:\n",
    "    qq = np.where(np.array(cat_total_y_true) == i)\n",
    "    if i== 0:\n",
    "        Rh1 = np.array([tensor.item() for tensor in cat_total_y_pre[qq[0]]])\n",
    "    if i==50:\n",
    "        Rh10 = np.array([tensor.item() for tensor in cat_total_y_pre[qq[0]]])\n",
    "    if i==94:\n",
    "        Rh20 = np.array([tensor.item() for tensor in cat_total_y_pre[qq[0]]])\n"
   ]
  },
  {
   "cell_type": "code",
   "execution_count": 37,
   "metadata": {
    "tags": []
   },
   "outputs": [],
   "source": [
    "#Rh1"
   ]
  },
  {
   "cell_type": "code",
   "execution_count": 38,
   "metadata": {},
   "outputs": [
    {
     "data": {
      "image/png": "[encoded data removed]",
      "text/plain": [
       "<Figure size 640x480 with 1 Axes>"
      ]
     },
     "metadata": {},
     "output_type": "display_data"
    },
    {
     "data": {
      "image/png": "[encoded data removed]",
      "text/plain": [
       "<Figure size 640x480 with 1 Axes>"
      ]
     },
     "metadata": {},
     "output_type": "display_data"
    },
    {
     "data": {
      "image/png": "[encoded data removed]",
      "text/plain": [
       "<Figure size 640x480 with 1 Axes>"
      ]
     },
     "metadata": {},
     "output_type": "display_data"
    }
   ],
   "source": [
    "import matplotlib.pyplot as plt\n",
    "from collections import Counter\n",
    "\n",
    "# 已知數據\n",
    "for i,j in zip([Rh1,Rh10,Rh20],[0,0.5,0.94]):\n",
    "    uu = i\n",
    "\n",
    "    # 計算每個數字的數量\n",
    "    counter = Counter(uu)\n",
    "\n",
    "    # 計算每個數字的百分比\n",
    "    total_count = len(uu)\n",
    "    percentage = [count / total_count * 100 for count in counter.values()]\n",
    "\n",
    "    # 繪製直方圖\n",
    "    plt.bar(counter.keys(), percentage, color='blue', alpha=0.7)\n",
    "    plt.xticks([0,20,40,50,60,80,94,100])\n",
    "    plt.xlabel('predict value(spin*100)')\n",
    "    plt.ylabel('Percentage (%)')\n",
    "    plt.title(f'Percentage of True a={j}')\n",
    "    plt.show()\n"
   ]
  },
  {
   "cell_type": "code",
   "execution_count": 39,
   "metadata": {},
   "outputs": [
    {
     "data": {
      "text/plain": [
       "array([50, 50, 50, ..., 50, 50, 50])"
      ]
     },
     "execution_count": 39,
     "metadata": {},
     "output_type": "execute_result"
    }
   ],
   "source": [
    "Rh10"
   ]
  },
  {
   "cell_type": "code",
   "execution_count": null,
   "metadata": {},
   "outputs": [],
   "source": []
  }
 ],
 "metadata": {
  "kernelspec": {
   "display_name": "Python 3 (ipykernel)",
   "language": "python",
   "name": "python3"
  },
  "language_info": {
   "codemirror_mode": {
    "name": "ipython",
    "version": 3
   },
   "file_extension": ".py",
   "mimetype": "text/x-python",
   "name": "python",
   "nbconvert_exporter": "python",
   "pygments_lexer": "ipython3",
   "version": "3.9.18"
  }
 },
 "nbformat": 4,
 "nbformat_minor": 4
}
